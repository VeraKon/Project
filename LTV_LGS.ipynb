{
 "cells": [
  {
   "cell_type": "markdown",
   "metadata": {},
   "source": [
    "# Анализ LTV по клиенту"
   ]
  },
  {
   "cell_type": "markdown",
   "metadata": {},
   "source": [
    "Есть два датасета: датасет с установками и датасет с платежами. Историческая глубина по регистрациям и по платежам чуть более двух месяцев. На основе этих данных требуется:\n",
    "<br>1.Оценить общий LTV по клиенту в рамках данного проекта на текущий момент. Нужно подсчитать , что LTV за период накоплений платежей наблюдаемых был такой-то. История только на 2 месяца, получается LTV можно вычислить на 60 день\n",
    "<br>2.Так как история всего 60 дней, а нам нужно понять какой LTV будет на 180 день, нужно спрогнозировать общий LTV по клиенту на 180 день, нужно прикинуть, каким образом эти платежи будут накапливаться далее.\n",
    "<br>3.Посмотреть источники трафика + страны и попробовать построить LTV (пункт 1 и пункт 2, то есть оценка и прогноз на 180 день) по самым крупным источникам трафика отдельно, выбрать 3 источника + страну. Пример:\n",
    "<br>a. Страна - DE, источник - ORGANIC\n",
    "<br>b. Страна - BR, источник - Facebook Ads\n",
    "<br>c. Страна - US, источник - googleadwords_int\n",
    "<br>После сделать личные выводы. Решение может быть и в Jupyter Notebook, желательно если будете добавлять комментарии, что и где вы пытались сделать.\n",
    "<br>После Notebook опубликовать у себя в гите, расшарить доступ и отправить ссылку."
   ]
  },
  {
   "cell_type": "markdown",
   "metadata": {},
   "source": [
    "***LTV, или lifetime value*** — метрика, которая показывает, сколько денег принесёт клиент за всё время взаимодействия с компанией: от первой покупки до последней (доход/ количество \"платящих\" пользователей). \n",
    "<br>***ARPU*** - доход/ количество пользователей.\n",
    "<br>LTV = Lifetime*ARPU\n",
    "<br>Lifetime- количество дней от первого визита до текущего дня.\n",
    "<br>ARPU-[доход / количество пользователей]."
   ]
  },
  {
   "cell_type": "markdown",
   "metadata": {},
   "source": [
    "Исследованы данные: тип данных и стат.величины, заменен регистр в названии столбцов таблиц, период данных с 2021-04-01 по 2021-06-08."
   ]
  },
  {
   "cell_type": "code",
   "execution_count": 1,
   "metadata": {},
   "outputs": [],
   "source": [
    "# Загрузка библиотек\n",
    "import pandas as pd \n",
    "import numpy as np\n",
    "import seaborn as sns\n",
    "import matplotlib.pyplot as plt"
   ]
  },
  {
   "cell_type": "code",
   "execution_count": 2,
   "metadata": {},
   "outputs": [],
   "source": [
    "# Путь к файлам\n",
    "users=pd.read_csv('users_for_test_task_no_archive.csv')\n",
    "pays=pd.read_csv('pays_for_test_task_no_archive.csv')        "
   ]
  },
  {
   "cell_type": "code",
   "execution_count": 3,
   "metadata": {},
   "outputs": [],
   "source": [
    "# Замена названий всех столбцов df на нижний регистр\n",
    "users.columns = users.columns.str.lower() \n",
    "pays.columns = pays.columns.str.lower() "
   ]
  },
  {
   "cell_type": "code",
   "execution_count": 4,
   "metadata": {},
   "outputs": [
    {
     "data": {
      "text/html": [
       "<div>\n",
       "<style scoped>\n",
       "    .dataframe tbody tr th:only-of-type {\n",
       "        vertical-align: middle;\n",
       "    }\n",
       "\n",
       "    .dataframe tbody tr th {\n",
       "        vertical-align: top;\n",
       "    }\n",
       "\n",
       "    .dataframe thead th {\n",
       "        text-align: right;\n",
       "    }\n",
       "</style>\n",
       "<table border=\"1\" class=\"dataframe\">\n",
       "  <thead>\n",
       "    <tr style=\"text-align: right;\">\n",
       "      <th></th>\n",
       "      <th>user_id</th>\n",
       "      <th>reg_date_datetime</th>\n",
       "      <th>source</th>\n",
       "      <th>country</th>\n",
       "      <th>platform</th>\n",
       "      <th>reg_date</th>\n",
       "      <th>organic</th>\n",
       "      <th>coh</th>\n",
       "    </tr>\n",
       "  </thead>\n",
       "  <tbody>\n",
       "    <tr>\n",
       "      <td>0</td>\n",
       "      <td>-4973778100598221234</td>\n",
       "      <td>2021-04-17</td>\n",
       "      <td>Facebook Ads</td>\n",
       "      <td>IQ</td>\n",
       "      <td>ANDROID</td>\n",
       "      <td>1618617600</td>\n",
       "      <td>0</td>\n",
       "      <td>52</td>\n",
       "    </tr>\n",
       "    <tr>\n",
       "      <td>1</td>\n",
       "      <td>5812258986717022745</td>\n",
       "      <td>2021-04-16</td>\n",
       "      <td>googleadwords_int</td>\n",
       "      <td>DE</td>\n",
       "      <td>ANDROID</td>\n",
       "      <td>1618531200</td>\n",
       "      <td>0</td>\n",
       "      <td>53</td>\n",
       "    </tr>\n",
       "    <tr>\n",
       "      <td>2</td>\n",
       "      <td>3641231461578038700</td>\n",
       "      <td>2021-05-29</td>\n",
       "      <td>Facebook Ads</td>\n",
       "      <td>US</td>\n",
       "      <td>ANDROID</td>\n",
       "      <td>1622246400</td>\n",
       "      <td>0</td>\n",
       "      <td>10</td>\n",
       "    </tr>\n",
       "    <tr>\n",
       "      <td>3</td>\n",
       "      <td>7717637744784409954</td>\n",
       "      <td>2021-04-11</td>\n",
       "      <td>ORGANIC</td>\n",
       "      <td>IN</td>\n",
       "      <td>ANDROID</td>\n",
       "      <td>1618099200</td>\n",
       "      <td>1</td>\n",
       "      <td>58</td>\n",
       "    </tr>\n",
       "    <tr>\n",
       "      <td>4</td>\n",
       "      <td>1461469123719645680</td>\n",
       "      <td>2021-05-08</td>\n",
       "      <td>Facebook Ads</td>\n",
       "      <td>PH</td>\n",
       "      <td>ANDROID</td>\n",
       "      <td>1620432000</td>\n",
       "      <td>0</td>\n",
       "      <td>31</td>\n",
       "    </tr>\n",
       "  </tbody>\n",
       "</table>\n",
       "</div>"
      ],
      "text/plain": [
       "               user_id reg_date_datetime             source country platform  \\\n",
       "0 -4973778100598221234        2021-04-17       Facebook Ads      IQ  ANDROID   \n",
       "1  5812258986717022745        2021-04-16  googleadwords_int      DE  ANDROID   \n",
       "2  3641231461578038700        2021-05-29       Facebook Ads      US  ANDROID   \n",
       "3  7717637744784409954        2021-04-11            ORGANIC      IN  ANDROID   \n",
       "4  1461469123719645680        2021-05-08       Facebook Ads      PH  ANDROID   \n",
       "\n",
       "     reg_date  organic  coh  \n",
       "0  1618617600        0   52  \n",
       "1  1618531200        0   53  \n",
       "2  1622246400        0   10  \n",
       "3  1618099200        1   58  \n",
       "4  1620432000        0   31  "
      ]
     },
     "execution_count": 4,
     "metadata": {},
     "output_type": "execute_result"
    }
   ],
   "source": [
    "# Чтение файлов_Историческая глубина по регистрациям и платежам\n",
    "users.head()"
   ]
  },
  {
   "cell_type": "code",
   "execution_count": 5,
   "metadata": {},
   "outputs": [
    {
     "data": {
      "text/plain": [
       "count    177071\n",
       "mean         38\n",
       "std          20\n",
       "min           0\n",
       "25%          18\n",
       "50%          47\n",
       "75%          57\n",
       "max          68\n",
       "Name: coh, dtype: int64"
      ]
     },
     "execution_count": 5,
     "metadata": {},
     "output_type": "execute_result"
    }
   ],
   "source": [
    "# Просмотр основных статистических данных\n",
    "users['coh'].describe().astype('int')"
   ]
  },
  {
   "cell_type": "code",
   "execution_count": 6,
   "metadata": {},
   "outputs": [
    {
     "name": "stdout",
     "output_type": "stream",
     "text": [
      "<class 'pandas.core.frame.DataFrame'>\n",
      "RangeIndex: 177071 entries, 0 to 177070\n",
      "Data columns (total 8 columns):\n",
      "user_id              177071 non-null int64\n",
      "reg_date_datetime    177071 non-null object\n",
      "source               177071 non-null object\n",
      "country              175786 non-null object\n",
      "platform             177071 non-null object\n",
      "reg_date             177071 non-null int64\n",
      "organic              177071 non-null int64\n",
      "coh                  177071 non-null int64\n",
      "dtypes: int64(4), object(4)\n",
      "memory usage: 10.8+ MB\n"
     ]
    }
   ],
   "source": [
    "# Проверка типов данных\n",
    "users.info()"
   ]
  },
  {
   "cell_type": "code",
   "execution_count": 7,
   "metadata": {},
   "outputs": [
    {
     "data": {
      "text/html": [
       "<div>\n",
       "<style scoped>\n",
       "    .dataframe tbody tr th:only-of-type {\n",
       "        vertical-align: middle;\n",
       "    }\n",
       "\n",
       "    .dataframe tbody tr th {\n",
       "        vertical-align: top;\n",
       "    }\n",
       "\n",
       "    .dataframe thead th {\n",
       "        text-align: right;\n",
       "    }\n",
       "</style>\n",
       "<table border=\"1\" class=\"dataframe\">\n",
       "  <thead>\n",
       "    <tr style=\"text-align: right;\">\n",
       "      <th></th>\n",
       "      <th>user_id</th>\n",
       "      <th>pay_date_datetime</th>\n",
       "      <th>pay_amount</th>\n",
       "      <th>pay_date</th>\n",
       "    </tr>\n",
       "  </thead>\n",
       "  <tbody>\n",
       "    <tr>\n",
       "      <td>0</td>\n",
       "      <td>3641231461578038700</td>\n",
       "      <td>2021-05-29</td>\n",
       "      <td>9.99</td>\n",
       "      <td>1622246400</td>\n",
       "    </tr>\n",
       "    <tr>\n",
       "      <td>1</td>\n",
       "      <td>3641231461578038700</td>\n",
       "      <td>2021-05-30</td>\n",
       "      <td>11.96</td>\n",
       "      <td>1622332800</td>\n",
       "    </tr>\n",
       "    <tr>\n",
       "      <td>2</td>\n",
       "      <td>3641231461578038700</td>\n",
       "      <td>2021-06-01</td>\n",
       "      <td>29.95</td>\n",
       "      <td>1622505600</td>\n",
       "    </tr>\n",
       "    <tr>\n",
       "      <td>3</td>\n",
       "      <td>-6436358564819894849</td>\n",
       "      <td>2021-05-21</td>\n",
       "      <td>2.60</td>\n",
       "      <td>1621555200</td>\n",
       "    </tr>\n",
       "    <tr>\n",
       "      <td>4</td>\n",
       "      <td>-6436358564819894849</td>\n",
       "      <td>2021-05-28</td>\n",
       "      <td>5.22</td>\n",
       "      <td>1622160000</td>\n",
       "    </tr>\n",
       "  </tbody>\n",
       "</table>\n",
       "</div>"
      ],
      "text/plain": [
       "               user_id pay_date_datetime  pay_amount    pay_date\n",
       "0  3641231461578038700        2021-05-29        9.99  1622246400\n",
       "1  3641231461578038700        2021-05-30       11.96  1622332800\n",
       "2  3641231461578038700        2021-06-01       29.95  1622505600\n",
       "3 -6436358564819894849        2021-05-21        2.60  1621555200\n",
       "4 -6436358564819894849        2021-05-28        5.22  1622160000"
      ]
     },
     "execution_count": 7,
     "metadata": {},
     "output_type": "execute_result"
    }
   ],
   "source": [
    "pays.head()"
   ]
  },
  {
   "cell_type": "code",
   "execution_count": 8,
   "metadata": {},
   "outputs": [
    {
     "name": "stdout",
     "output_type": "stream",
     "text": [
      "<class 'pandas.core.frame.DataFrame'>\n",
      "RangeIndex: 5339 entries, 0 to 5338\n",
      "Data columns (total 4 columns):\n",
      "user_id              5339 non-null int64\n",
      "pay_date_datetime    5339 non-null object\n",
      "pay_amount           5339 non-null float64\n",
      "pay_date             5339 non-null int64\n",
      "dtypes: float64(1), int64(2), object(1)\n",
      "memory usage: 167.0+ KB\n"
     ]
    }
   ],
   "source": [
    "# Проверка типов данных\n",
    "pays.info()"
   ]
  },
  {
   "cell_type": "code",
   "execution_count": 9,
   "metadata": {},
   "outputs": [
    {
     "data": {
      "text/plain": [
       "count    5339\n",
       "mean       17\n",
       "std        34\n",
       "min         0\n",
       "25%         2\n",
       "50%         8\n",
       "75%        16\n",
       "max       812\n",
       "Name: pay_amount, dtype: int64"
      ]
     },
     "execution_count": 9,
     "metadata": {},
     "output_type": "execute_result"
    }
   ],
   "source": [
    "# Просмотр основных статистических данных_'pay_amount': 17-812\n",
    "pays['pay_amount'].describe().astype('int')"
   ]
  },
  {
   "cell_type": "code",
   "execution_count": 10,
   "metadata": {},
   "outputs": [
    {
     "name": "stdout",
     "output_type": "stream",
     "text": [
      "2021-04-01\n",
      "2021-06-08\n"
     ]
    }
   ],
   "source": [
    "# Период данных (2 месяца)\n",
    "print(pays['pay_date_datetime'].min())\n",
    "print(pays['pay_date_datetime'].max())"
   ]
  },
  {
   "cell_type": "code",
   "execution_count": 11,
   "metadata": {},
   "outputs": [
    {
     "data": {
      "text/plain": [
       "{'2021-04-01',\n",
       " '2021-04-02',\n",
       " '2021-04-03',\n",
       " '2021-04-04',\n",
       " '2021-04-05',\n",
       " '2021-04-06',\n",
       " '2021-04-07',\n",
       " '2021-04-08',\n",
       " '2021-04-09',\n",
       " '2021-04-10',\n",
       " '2021-04-11',\n",
       " '2021-04-12',\n",
       " '2021-04-13',\n",
       " '2021-04-14',\n",
       " '2021-04-15',\n",
       " '2021-04-16',\n",
       " '2021-04-17',\n",
       " '2021-04-18',\n",
       " '2021-04-19',\n",
       " '2021-04-20',\n",
       " '2021-04-21',\n",
       " '2021-04-22',\n",
       " '2021-04-23',\n",
       " '2021-04-24',\n",
       " '2021-04-25',\n",
       " '2021-04-26',\n",
       " '2021-04-27',\n",
       " '2021-04-28',\n",
       " '2021-04-29',\n",
       " '2021-04-30',\n",
       " '2021-05-01',\n",
       " '2021-05-02',\n",
       " '2021-05-03',\n",
       " '2021-05-04',\n",
       " '2021-05-05',\n",
       " '2021-05-06',\n",
       " '2021-05-07',\n",
       " '2021-05-08',\n",
       " '2021-05-09',\n",
       " '2021-05-10',\n",
       " '2021-05-11',\n",
       " '2021-05-12',\n",
       " '2021-05-13',\n",
       " '2021-05-14',\n",
       " '2021-05-15',\n",
       " '2021-05-16',\n",
       " '2021-05-17',\n",
       " '2021-05-18',\n",
       " '2021-05-19',\n",
       " '2021-05-20',\n",
       " '2021-05-21',\n",
       " '2021-05-22',\n",
       " '2021-05-23',\n",
       " '2021-05-24',\n",
       " '2021-05-25',\n",
       " '2021-05-26',\n",
       " '2021-05-27',\n",
       " '2021-05-28',\n",
       " '2021-05-29',\n",
       " '2021-05-30',\n",
       " '2021-05-31',\n",
       " '2021-06-01',\n",
       " '2021-06-02',\n",
       " '2021-06-03',\n",
       " '2021-06-04',\n",
       " '2021-06-05',\n",
       " '2021-06-06',\n",
       " '2021-06-07',\n",
       " '2021-06-08'}"
      ]
     },
     "execution_count": 11,
     "metadata": {},
     "output_type": "execute_result"
    }
   ],
   "source": [
    "# Признак 'pay_date_datetime'_69 дат\n",
    "set(pays['pay_date_datetime'])"
   ]
  },
  {
   "cell_type": "markdown",
   "metadata": {},
   "source": [
    "1.Оценить общий LTV по клиенту в рамках данного проекта на текущий момент. Нужно подсчитать , что LTV за период накоплений платежей наблюдаемых был такой-то. История только на 2 месяца, получается LTV можно вычислить на 60 день"
   ]
  },
  {
   "cell_type": "code",
   "execution_count": 12,
   "metadata": {},
   "outputs": [
    {
     "data": {
      "text/html": [
       "<div>\n",
       "<style scoped>\n",
       "    .dataframe tbody tr th:only-of-type {\n",
       "        vertical-align: middle;\n",
       "    }\n",
       "\n",
       "    .dataframe tbody tr th {\n",
       "        vertical-align: top;\n",
       "    }\n",
       "\n",
       "    .dataframe thead th {\n",
       "        text-align: right;\n",
       "    }\n",
       "</style>\n",
       "<table border=\"1\" class=\"dataframe\">\n",
       "  <thead>\n",
       "    <tr style=\"text-align: right;\">\n",
       "      <th></th>\n",
       "      <th>pay_amount</th>\n",
       "    </tr>\n",
       "    <tr>\n",
       "      <th>pay_date_datetime</th>\n",
       "      <th></th>\n",
       "    </tr>\n",
       "  </thead>\n",
       "  <tbody>\n",
       "    <tr>\n",
       "      <td>2021-04-01</td>\n",
       "      <td>318.02</td>\n",
       "    </tr>\n",
       "    <tr>\n",
       "      <td>2021-04-02</td>\n",
       "      <td>212.63</td>\n",
       "    </tr>\n",
       "    <tr>\n",
       "      <td>2021-04-03</td>\n",
       "      <td>309.39</td>\n",
       "    </tr>\n",
       "    <tr>\n",
       "      <td>2021-04-04</td>\n",
       "      <td>378.08</td>\n",
       "    </tr>\n",
       "    <tr>\n",
       "      <td>2021-04-05</td>\n",
       "      <td>435.11</td>\n",
       "    </tr>\n",
       "    <tr>\n",
       "      <td>...</td>\n",
       "      <td>...</td>\n",
       "    </tr>\n",
       "    <tr>\n",
       "      <td>2021-06-05</td>\n",
       "      <td>2369.66</td>\n",
       "    </tr>\n",
       "    <tr>\n",
       "      <td>2021-06-06</td>\n",
       "      <td>1608.70</td>\n",
       "    </tr>\n",
       "    <tr>\n",
       "      <td>2021-06-07</td>\n",
       "      <td>1879.59</td>\n",
       "    </tr>\n",
       "    <tr>\n",
       "      <td>2021-06-08</td>\n",
       "      <td>717.13</td>\n",
       "    </tr>\n",
       "    <tr>\n",
       "      <td>All</td>\n",
       "      <td>90779.78</td>\n",
       "    </tr>\n",
       "  </tbody>\n",
       "</table>\n",
       "<p>70 rows × 1 columns</p>\n",
       "</div>"
      ],
      "text/plain": [
       "                   pay_amount\n",
       "pay_date_datetime            \n",
       "2021-04-01             318.02\n",
       "2021-04-02             212.63\n",
       "2021-04-03             309.39\n",
       "2021-04-04             378.08\n",
       "2021-04-05             435.11\n",
       "...                       ...\n",
       "2021-06-05            2369.66\n",
       "2021-06-06            1608.70\n",
       "2021-06-07            1879.59\n",
       "2021-06-08             717.13\n",
       "All                  90779.78\n",
       "\n",
       "[70 rows x 1 columns]"
      ]
     },
     "execution_count": 12,
     "metadata": {},
     "output_type": "execute_result"
    }
   ],
   "source": [
    "# Сводная таблица платежей\n",
    "pays.pivot_table(index='pay_date_datetime', values='pay_amount', aggfunc='sum', \n",
    "                 margins=True).sort_values(by='pay_date_datetime', ascending=True).head(70)"
   ]
  },
  {
   "cell_type": "code",
   "execution_count": 13,
   "metadata": {},
   "outputs": [
    {
     "data": {
      "text/plain": [
       "Text(0, 0.5, 'Сумма платежа')"
      ]
     },
     "execution_count": 13,
     "metadata": {},
     "output_type": "execute_result"
    },
    {
     "data": {
      "image/png": "[encoded data removed]",
      "text/plain": [
       "<Figure size 2160x360 with 1 Axes>"
      ]
     },
     "metadata": {
      "needs_background": "light"
     },
     "output_type": "display_data"
    }
   ],
   "source": [
    "# Гистограмма платежей по датам_с 2021-04-01 по 2021-06-08\n",
    "data = pays.pivot_table(index='pay_date_datetime', values='pay_amount', aggfunc='sum').sort_values(by='pay_date_datetime', ascending=True).head(70)\n",
    "plt.figure(figsize=(30,5))\n",
    "sns.barplot(x=data.index,y=data['pay_amount'])\n",
    "plt.title('Суммарные платежи по датам', fontsize=20)\n",
    "plt.xticks(rotation=90)\n",
    "plt.xlabel(\"Дата платежа\")\n",
    "plt.ylabel(\"Сумма платежа\")"
   ]
  },
  {
   "cell_type": "code",
   "execution_count": 14,
   "metadata": {},
   "outputs": [
    {
     "data": {
      "text/plain": [
       " 8965414445419478069    44\n",
       " 3104300642945644791    42\n",
       "-198167270654132492     41\n",
       "Name: user_id, dtype: int64"
      ]
     },
     "execution_count": 14,
     "metadata": {},
     "output_type": "execute_result"
    }
   ],
   "source": [
    "# Количество платежей по 'user_id'\n",
    "pays['user_id'].value_counts().head(3)"
   ]
  },
  {
   "cell_type": "code",
   "execution_count": 15,
   "metadata": {},
   "outputs": [
    {
     "data": {
      "text/plain": [
       "1915"
      ]
     },
     "execution_count": 15,
     "metadata": {},
     "output_type": "execute_result"
    }
   ],
   "source": [
    "# Количество клиентов\n",
    "client_count = len(pd.unique(pays['user_id']))\n",
    "client_count"
   ]
  },
  {
   "cell_type": "code",
   "execution_count": 16,
   "metadata": {},
   "outputs": [],
   "source": [
    "# Цикл для установления факта платил/ не платил клиент, добавлен столбец 'pay_tipe'\n",
    "\n",
    "def pay_tipe(row):\n",
    "    pay = row['pay_amount']\n",
    "    if pay == 0:\n",
    "        return 0\n",
    "    return 1\n",
    "pays['pay_tipe'] = pays.apply(pay_tipe, axis = 1)"
   ]
  },
  {
   "cell_type": "code",
   "execution_count": 17,
   "metadata": {},
   "outputs": [
    {
     "data": {
      "text/plain": [
       "{0, 1}"
      ]
     },
     "execution_count": 17,
     "metadata": {},
     "output_type": "execute_result"
    }
   ],
   "source": [
    "set(pays['pay_tipe'])"
   ]
  },
  {
   "cell_type": "code",
   "execution_count": 18,
   "metadata": {},
   "outputs": [
    {
     "data": {
      "text/html": [
       "<div>\n",
       "<style scoped>\n",
       "    .dataframe tbody tr th:only-of-type {\n",
       "        vertical-align: middle;\n",
       "    }\n",
       "\n",
       "    .dataframe tbody tr th {\n",
       "        vertical-align: top;\n",
       "    }\n",
       "\n",
       "    .dataframe thead th {\n",
       "        text-align: right;\n",
       "    }\n",
       "</style>\n",
       "<table border=\"1\" class=\"dataframe\">\n",
       "  <thead>\n",
       "    <tr style=\"text-align: right;\">\n",
       "      <th></th>\n",
       "      <th>user_id</th>\n",
       "      <th>pay_date_datetime</th>\n",
       "      <th>pay_amount</th>\n",
       "      <th>pay_date</th>\n",
       "      <th>pay_tipe</th>\n",
       "    </tr>\n",
       "  </thead>\n",
       "  <tbody>\n",
       "    <tr>\n",
       "      <td>2246</td>\n",
       "      <td>5130909305013445749</td>\n",
       "      <td>2021-05-07</td>\n",
       "      <td>4.87</td>\n",
       "      <td>1620345600</td>\n",
       "      <td>1</td>\n",
       "    </tr>\n",
       "    <tr>\n",
       "      <td>1789</td>\n",
       "      <td>-563833515922819967</td>\n",
       "      <td>2021-06-07</td>\n",
       "      <td>8.96</td>\n",
       "      <td>1623024000</td>\n",
       "      <td>1</td>\n",
       "    </tr>\n",
       "    <tr>\n",
       "      <td>4098</td>\n",
       "      <td>1906971420254426757</td>\n",
       "      <td>2021-05-11</td>\n",
       "      <td>12.78</td>\n",
       "      <td>1620691200</td>\n",
       "      <td>1</td>\n",
       "    </tr>\n",
       "  </tbody>\n",
       "</table>\n",
       "</div>"
      ],
      "text/plain": [
       "                  user_id pay_date_datetime  pay_amount    pay_date  pay_tipe\n",
       "2246  5130909305013445749        2021-05-07        4.87  1620345600         1\n",
       "1789  -563833515922819967        2021-06-07        8.96  1623024000         1\n",
       "4098  1906971420254426757        2021-05-11       12.78  1620691200         1"
      ]
     },
     "execution_count": 18,
     "metadata": {},
     "output_type": "execute_result"
    }
   ],
   "source": [
    "pays.sample(3)"
   ]
  },
  {
   "cell_type": "code",
   "execution_count": 19,
   "metadata": {},
   "outputs": [
    {
     "data": {
      "text/html": [
       "<div>\n",
       "<style scoped>\n",
       "    .dataframe tbody tr th:only-of-type {\n",
       "        vertical-align: middle;\n",
       "    }\n",
       "\n",
       "    .dataframe tbody tr th {\n",
       "        vertical-align: top;\n",
       "    }\n",
       "\n",
       "    .dataframe thead th {\n",
       "        text-align: right;\n",
       "    }\n",
       "</style>\n",
       "<table border=\"1\" class=\"dataframe\">\n",
       "  <thead>\n",
       "    <tr style=\"text-align: right;\">\n",
       "      <th></th>\n",
       "      <th>user_id</th>\n",
       "      <th>pay_date_datetime</th>\n",
       "      <th>pay_amount</th>\n",
       "      <th>pay_date</th>\n",
       "      <th>pay_tipe</th>\n",
       "    </tr>\n",
       "  </thead>\n",
       "  <tbody>\n",
       "    <tr>\n",
       "      <td>225</td>\n",
       "      <td>867024081388679409</td>\n",
       "      <td>2021-04-27</td>\n",
       "      <td>0.0</td>\n",
       "      <td>1619481600</td>\n",
       "      <td>0</td>\n",
       "    </tr>\n",
       "    <tr>\n",
       "      <td>390</td>\n",
       "      <td>499876759404346306</td>\n",
       "      <td>2021-04-10</td>\n",
       "      <td>0.0</td>\n",
       "      <td>1618012800</td>\n",
       "      <td>0</td>\n",
       "    </tr>\n",
       "    <tr>\n",
       "      <td>748</td>\n",
       "      <td>2233585453658945915</td>\n",
       "      <td>2021-04-22</td>\n",
       "      <td>0.0</td>\n",
       "      <td>1619049600</td>\n",
       "      <td>0</td>\n",
       "    </tr>\n",
       "    <tr>\n",
       "      <td>1664</td>\n",
       "      <td>-9210094775089823772</td>\n",
       "      <td>2021-04-26</td>\n",
       "      <td>0.0</td>\n",
       "      <td>1619395200</td>\n",
       "      <td>0</td>\n",
       "    </tr>\n",
       "    <tr>\n",
       "      <td>4751</td>\n",
       "      <td>6573438836955998236</td>\n",
       "      <td>2021-05-01</td>\n",
       "      <td>0.0</td>\n",
       "      <td>1619827200</td>\n",
       "      <td>0</td>\n",
       "    </tr>\n",
       "  </tbody>\n",
       "</table>\n",
       "</div>"
      ],
      "text/plain": [
       "                  user_id pay_date_datetime  pay_amount    pay_date  pay_tipe\n",
       "225    867024081388679409        2021-04-27         0.0  1619481600         0\n",
       "390    499876759404346306        2021-04-10         0.0  1618012800         0\n",
       "748   2233585453658945915        2021-04-22         0.0  1619049600         0\n",
       "1664 -9210094775089823772        2021-04-26         0.0  1619395200         0\n",
       "4751  6573438836955998236        2021-05-01         0.0  1619827200         0"
      ]
     },
     "execution_count": 19,
     "metadata": {},
     "output_type": "execute_result"
    }
   ],
   "source": [
    "# Выбор неплатящих 'user_id'_статус 0, но платили в другие даты\n",
    "pay_no = pays[pays['pay_tipe'] == 0]\n",
    "pay_no"
   ]
  },
  {
   "cell_type": "code",
   "execution_count": 20,
   "metadata": {},
   "outputs": [
    {
     "data": {
      "text/plain": [
       "90779.78"
      ]
     },
     "execution_count": 20,
     "metadata": {},
     "output_type": "execute_result"
    }
   ],
   "source": [
    "# Сумма платежей от клиентов за период_69 дней\n",
    "pay_sum = pays['pay_amount'].sum()\n",
    "pay_sum"
   ]
  },
  {
   "cell_type": "code",
   "execution_count": 21,
   "metadata": {},
   "outputs": [
    {
     "data": {
      "text/plain": [
       "47.404584856396866"
      ]
     },
     "execution_count": 21,
     "metadata": {},
     "output_type": "execute_result"
    }
   ],
   "source": [
    "# Расчет LTV\n",
    "LTV= pay_sum / client_count\n",
    "LTV"
   ]
  },
  {
   "cell_type": "markdown",
   "metadata": {},
   "source": [
    "##### Вывод:\n",
    "Выведнена динамика и суммма платежей за анализируемый период. Просчитан LTV в целом (сумму платежей за период делим на количество клиентов) за 60 дней.  В среднем каждый клиент приносит 47.40 y.e."
   ]
  },
  {
   "cell_type": "markdown",
   "metadata": {},
   "source": [
    "##### 2, 3 пункты."
   ]
  },
  {
   "cell_type": "code",
   "execution_count": 22,
   "metadata": {},
   "outputs": [
    {
     "data": {
      "text/plain": [
       "Text(0.5, 1.0, 'Трафик по источникам')"
      ]
     },
     "execution_count": 22,
     "metadata": {},
     "output_type": "execute_result"
    },
    {
     "data": {
      "image/png": "[encoded data removed]",
      "text/plain": [
       "<Figure size 720x216 with 1 Axes>"
      ]
     },
     "metadata": {
      "needs_background": "light"
     },
     "output_type": "display_data"
    }
   ],
   "source": [
    "# Гистограмма трафик по странам\n",
    "source = (users['source']).value_counts().head()\n",
    "\n",
    "plt.figure(figsize=(10,3))\n",
    "sns.barplot(y=source.index,x=source, color='crimson')\n",
    "plt.xlabel('Объем трафика')\n",
    "plt.ylabel('Наименование трафика', fontsize=11)\n",
    "plt.title('Трафик по источникам', fontsize=14)"
   ]
  },
  {
   "cell_type": "code",
   "execution_count": 23,
   "metadata": {},
   "outputs": [
    {
     "data": {
      "text/plain": [
       "220"
      ]
     },
     "execution_count": 23,
     "metadata": {},
     "output_type": "execute_result"
    }
   ],
   "source": [
    "# Количество стран по трафику\n",
    "len(pd.unique(users['country']))"
   ]
  },
  {
   "cell_type": "code",
   "execution_count": 24,
   "metadata": {},
   "outputs": [
    {
     "data": {
      "text/plain": [
       "Text(0.5, 1.0, 'Трафик по странам')"
      ]
     },
     "execution_count": 24,
     "metadata": {},
     "output_type": "execute_result"
    },
    {
     "data": {
      "image/png": "[encoded data removed]",
      "text/plain": [
       "<Figure size 720x216 with 1 Axes>"
      ]
     },
     "metadata": {
      "needs_background": "light"
     },
     "output_type": "display_data"
    }
   ],
   "source": [
    "# Гистограмма трафик по странам\n",
    "country = (users['country']).value_counts().head(10)\n",
    "\n",
    "plt.figure(figsize=(10,3))\n",
    "sns.barplot(y=country.index,x=country, color='crimson')\n",
    "plt.xlabel('Объем трафика')\n",
    "plt.ylabel('Название страны', fontsize=11)\n",
    "plt.title('Трафик по странам', fontsize=14)"
   ]
  },
  {
   "cell_type": "code",
   "execution_count": 25,
   "metadata": {},
   "outputs": [
    {
     "data": {
      "text/html": [
       "<div>\n",
       "<style scoped>\n",
       "    .dataframe tbody tr th:only-of-type {\n",
       "        vertical-align: middle;\n",
       "    }\n",
       "\n",
       "    .dataframe tbody tr th {\n",
       "        vertical-align: top;\n",
       "    }\n",
       "\n",
       "    .dataframe thead th {\n",
       "        text-align: right;\n",
       "    }\n",
       "</style>\n",
       "<table border=\"1\" class=\"dataframe\">\n",
       "  <thead>\n",
       "    <tr style=\"text-align: right;\">\n",
       "      <th></th>\n",
       "      <th>user_id</th>\n",
       "      <th>reg_date_datetime</th>\n",
       "      <th>source</th>\n",
       "      <th>country</th>\n",
       "      <th>platform</th>\n",
       "      <th>reg_date</th>\n",
       "      <th>organic</th>\n",
       "      <th>coh</th>\n",
       "      <th>pay_date_datetime</th>\n",
       "      <th>pay_amount</th>\n",
       "      <th>pay_date</th>\n",
       "      <th>pay_tipe</th>\n",
       "    </tr>\n",
       "  </thead>\n",
       "  <tbody>\n",
       "    <tr>\n",
       "      <td>0</td>\n",
       "      <td>-4973778100598221234</td>\n",
       "      <td>2021-04-17</td>\n",
       "      <td>Facebook Ads</td>\n",
       "      <td>IQ</td>\n",
       "      <td>ANDROID</td>\n",
       "      <td>1618617600</td>\n",
       "      <td>0</td>\n",
       "      <td>52</td>\n",
       "      <td>NaN</td>\n",
       "      <td>NaN</td>\n",
       "      <td>NaN</td>\n",
       "      <td>NaN</td>\n",
       "    </tr>\n",
       "    <tr>\n",
       "      <td>1</td>\n",
       "      <td>5812258986717022745</td>\n",
       "      <td>2021-04-16</td>\n",
       "      <td>googleadwords_int</td>\n",
       "      <td>DE</td>\n",
       "      <td>ANDROID</td>\n",
       "      <td>1618531200</td>\n",
       "      <td>0</td>\n",
       "      <td>53</td>\n",
       "      <td>NaN</td>\n",
       "      <td>NaN</td>\n",
       "      <td>NaN</td>\n",
       "      <td>NaN</td>\n",
       "    </tr>\n",
       "    <tr>\n",
       "      <td>2</td>\n",
       "      <td>3641231461578038700</td>\n",
       "      <td>2021-05-29</td>\n",
       "      <td>Facebook Ads</td>\n",
       "      <td>US</td>\n",
       "      <td>ANDROID</td>\n",
       "      <td>1622246400</td>\n",
       "      <td>0</td>\n",
       "      <td>10</td>\n",
       "      <td>2021-05-29</td>\n",
       "      <td>9.99</td>\n",
       "      <td>1.622246e+09</td>\n",
       "      <td>1.0</td>\n",
       "    </tr>\n",
       "  </tbody>\n",
       "</table>\n",
       "</div>"
      ],
      "text/plain": [
       "               user_id reg_date_datetime             source country platform  \\\n",
       "0 -4973778100598221234        2021-04-17       Facebook Ads      IQ  ANDROID   \n",
       "1  5812258986717022745        2021-04-16  googleadwords_int      DE  ANDROID   \n",
       "2  3641231461578038700        2021-05-29       Facebook Ads      US  ANDROID   \n",
       "\n",
       "     reg_date  organic  coh pay_date_datetime  pay_amount      pay_date  \\\n",
       "0  1618617600        0   52               NaN         NaN           NaN   \n",
       "1  1618531200        0   53               NaN         NaN           NaN   \n",
       "2  1622246400        0   10        2021-05-29        9.99  1.622246e+09   \n",
       "\n",
       "   pay_tipe  \n",
       "0       NaN  \n",
       "1       NaN  \n",
       "2       1.0  "
      ]
     },
     "execution_count": 25,
     "metadata": {},
     "output_type": "execute_result"
    }
   ],
   "source": [
    "# Применение метода merge для объединения таблиц\n",
    "total = pd.merge(\n",
    "    users,\n",
    "    pays,\n",
    "    on=['user_id'], \n",
    "    how='left')\n",
    "\n",
    "total.head(3)"
   ]
  },
  {
   "cell_type": "code",
   "execution_count": 26,
   "metadata": {},
   "outputs": [
    {
     "data": {
      "text/html": [
       "<div>\n",
       "<style scoped>\n",
       "    .dataframe tbody tr th:only-of-type {\n",
       "        vertical-align: middle;\n",
       "    }\n",
       "\n",
       "    .dataframe tbody tr th {\n",
       "        vertical-align: top;\n",
       "    }\n",
       "\n",
       "    .dataframe thead th {\n",
       "        text-align: right;\n",
       "    }\n",
       "</style>\n",
       "<table border=\"1\" class=\"dataframe\">\n",
       "  <thead>\n",
       "    <tr style=\"text-align: right;\">\n",
       "      <th></th>\n",
       "      <th></th>\n",
       "      <th>pay_amount</th>\n",
       "    </tr>\n",
       "    <tr>\n",
       "      <th>source</th>\n",
       "      <th>country</th>\n",
       "      <th></th>\n",
       "    </tr>\n",
       "  </thead>\n",
       "  <tbody>\n",
       "    <tr>\n",
       "      <td>All</td>\n",
       "      <td></td>\n",
       "      <td>90647.02</td>\n",
       "    </tr>\n",
       "    <tr>\n",
       "      <td>Facebook Ads</td>\n",
       "      <td>US</td>\n",
       "      <td>15762.79</td>\n",
       "    </tr>\n",
       "    <tr>\n",
       "      <td>googleadwords_int</td>\n",
       "      <td>US</td>\n",
       "      <td>7958.73</td>\n",
       "    </tr>\n",
       "    <tr>\n",
       "      <td>ORGANIC</td>\n",
       "      <td>SG</td>\n",
       "      <td>7921.06</td>\n",
       "    </tr>\n",
       "  </tbody>\n",
       "</table>\n",
       "</div>"
      ],
      "text/plain": [
       "                           pay_amount\n",
       "source            country            \n",
       "All                          90647.02\n",
       "Facebook Ads      US         15762.79\n",
       "googleadwords_int US          7958.73\n",
       "ORGANIC           SG          7921.06"
      ]
     },
     "execution_count": 26,
     "metadata": {},
     "output_type": "execute_result"
    }
   ],
   "source": [
    "# Сводная таблица платежей по 'source', 'country'\n",
    "pd.pivot_table(total,\n",
    "               index=['source', 'country'],\n",
    "               values=['pay_amount'], aggfunc = 'sum', margins=True).sort_values(by='pay_amount', ascending=False).head(4)"
   ]
  },
  {
   "cell_type": "markdown",
   "metadata": {},
   "source": [
    "Топ3 крупных источников трафика:\n",
    "<br>a. Страна - US, источник - Facebook Ads \n",
    "<br>b. Страна - US, источник - googleadwords_int \n",
    "<br>c. Страна - SG, источник - ORGANIC"
   ]
  },
  {
   "cell_type": "markdown",
   "metadata": {},
   "source": [
    "2.Так как история всего 60 дней, а нам нужно понять какой LTV будет на 180 день, нужно спрогнозировать общий LTV по клиенту на 180 день, нужно прикинуть, каким образом эти платежи будут накапливаться далее."
   ]
  },
  {
   "cell_type": "code",
   "execution_count": 27,
   "metadata": {
    "scrolled": true
   },
   "outputs": [
    {
     "data": {
      "text/html": [
       "<div>\n",
       "<style scoped>\n",
       "    .dataframe tbody tr th:only-of-type {\n",
       "        vertical-align: middle;\n",
       "    }\n",
       "\n",
       "    .dataframe tbody tr th {\n",
       "        vertical-align: top;\n",
       "    }\n",
       "\n",
       "    .dataframe thead th {\n",
       "        text-align: right;\n",
       "    }\n",
       "</style>\n",
       "<table border=\"1\" class=\"dataframe\">\n",
       "  <thead>\n",
       "    <tr style=\"text-align: right;\">\n",
       "      <th></th>\n",
       "      <th>pay_amount</th>\n",
       "    </tr>\n",
       "    <tr>\n",
       "      <th>reg_date_datetime</th>\n",
       "      <th></th>\n",
       "    </tr>\n",
       "  </thead>\n",
       "  <tbody>\n",
       "    <tr>\n",
       "      <td>2021-04-01</td>\n",
       "      <td>76</td>\n",
       "    </tr>\n",
       "    <tr>\n",
       "      <td>2021-04-02</td>\n",
       "      <td>51</td>\n",
       "    </tr>\n",
       "    <tr>\n",
       "      <td>2021-04-03</td>\n",
       "      <td>79</td>\n",
       "    </tr>\n",
       "    <tr>\n",
       "      <td>2021-04-04</td>\n",
       "      <td>154</td>\n",
       "    </tr>\n",
       "    <tr>\n",
       "      <td>2021-04-05</td>\n",
       "      <td>147</td>\n",
       "    </tr>\n",
       "  </tbody>\n",
       "</table>\n",
       "</div>"
      ],
      "text/plain": [
       "                   pay_amount\n",
       "reg_date_datetime            \n",
       "2021-04-01                 76\n",
       "2021-04-02                 51\n",
       "2021-04-03                 79\n",
       "2021-04-04                154\n",
       "2021-04-05                147"
      ]
     },
     "execution_count": 27,
     "metadata": {},
     "output_type": "execute_result"
    }
   ],
   "source": [
    "# Сводная таблица с количеством регистраций новых пользователей\n",
    "pd.pivot_table(total,\n",
    "               index=['reg_date_datetime'],\n",
    "             \n",
    "               values=['pay_amount'], aggfunc = 'count').sort_values(by='reg_date_datetime', ascending=True).head()"
   ]
  },
  {
   "cell_type": "code",
   "execution_count": 28,
   "metadata": {},
   "outputs": [
    {
     "data": {
      "text/html": [
       "<div>\n",
       "<style scoped>\n",
       "    .dataframe tbody tr th:only-of-type {\n",
       "        vertical-align: middle;\n",
       "    }\n",
       "\n",
       "    .dataframe tbody tr th {\n",
       "        vertical-align: top;\n",
       "    }\n",
       "\n",
       "    .dataframe thead tr th {\n",
       "        text-align: left;\n",
       "    }\n",
       "\n",
       "    .dataframe thead tr:last-of-type th {\n",
       "        text-align: right;\n",
       "    }\n",
       "</style>\n",
       "<table border=\"1\" class=\"dataframe\">\n",
       "  <thead>\n",
       "    <tr>\n",
       "      <th></th>\n",
       "      <th colspan=\"69\" halign=\"left\">pay_amount</th>\n",
       "    </tr>\n",
       "    <tr>\n",
       "      <th></th>\n",
       "      <th colspan=\"69\" halign=\"left\">mean</th>\n",
       "    </tr>\n",
       "    <tr>\n",
       "      <th>pay_date_datetime</th>\n",
       "      <th>2021-04-01</th>\n",
       "      <th>2021-04-02</th>\n",
       "      <th>2021-04-03</th>\n",
       "      <th>2021-04-04</th>\n",
       "      <th>2021-04-05</th>\n",
       "      <th>2021-04-06</th>\n",
       "      <th>2021-04-07</th>\n",
       "      <th>2021-04-08</th>\n",
       "      <th>2021-04-09</th>\n",
       "      <th>2021-04-10</th>\n",
       "      <th>2021-04-11</th>\n",
       "      <th>2021-04-12</th>\n",
       "      <th>2021-04-13</th>\n",
       "      <th>2021-04-14</th>\n",
       "      <th>2021-04-15</th>\n",
       "      <th>2021-04-16</th>\n",
       "      <th>2021-04-17</th>\n",
       "      <th>2021-04-18</th>\n",
       "      <th>2021-04-19</th>\n",
       "      <th>2021-04-20</th>\n",
       "      <th>2021-04-21</th>\n",
       "      <th>2021-04-22</th>\n",
       "      <th>2021-04-23</th>\n",
       "      <th>2021-04-24</th>\n",
       "      <th>2021-04-25</th>\n",
       "      <th>2021-04-26</th>\n",
       "      <th>2021-04-27</th>\n",
       "      <th>2021-04-28</th>\n",
       "      <th>2021-04-29</th>\n",
       "      <th>2021-04-30</th>\n",
       "      <th>2021-05-01</th>\n",
       "      <th>2021-05-02</th>\n",
       "      <th>2021-05-03</th>\n",
       "      <th>2021-05-04</th>\n",
       "      <th>2021-05-05</th>\n",
       "      <th>2021-05-06</th>\n",
       "      <th>2021-05-07</th>\n",
       "      <th>2021-05-08</th>\n",
       "      <th>2021-05-09</th>\n",
       "      <th>2021-05-10</th>\n",
       "      <th>2021-05-11</th>\n",
       "      <th>2021-05-12</th>\n",
       "      <th>2021-05-13</th>\n",
       "      <th>2021-05-14</th>\n",
       "      <th>2021-05-15</th>\n",
       "      <th>2021-05-16</th>\n",
       "      <th>2021-05-17</th>\n",
       "      <th>2021-05-18</th>\n",
       "      <th>2021-05-19</th>\n",
       "      <th>2021-05-20</th>\n",
       "      <th>2021-05-21</th>\n",
       "      <th>2021-05-22</th>\n",
       "      <th>2021-05-23</th>\n",
       "      <th>2021-05-24</th>\n",
       "      <th>2021-05-25</th>\n",
       "      <th>2021-05-26</th>\n",
       "      <th>2021-05-27</th>\n",
       "      <th>2021-05-28</th>\n",
       "      <th>2021-05-29</th>\n",
       "      <th>2021-05-30</th>\n",
       "      <th>2021-05-31</th>\n",
       "      <th>2021-06-01</th>\n",
       "      <th>2021-06-02</th>\n",
       "      <th>2021-06-03</th>\n",
       "      <th>2021-06-04</th>\n",
       "      <th>2021-06-05</th>\n",
       "      <th>2021-06-06</th>\n",
       "      <th>2021-06-07</th>\n",
       "      <th>2021-06-08</th>\n",
       "    </tr>\n",
       "    <tr>\n",
       "      <th>reg_date_datetime</th>\n",
       "      <th></th>\n",
       "      <th></th>\n",
       "      <th></th>\n",
       "      <th></th>\n",
       "      <th></th>\n",
       "      <th></th>\n",
       "      <th></th>\n",
       "      <th></th>\n",
       "      <th></th>\n",
       "      <th></th>\n",
       "      <th></th>\n",
       "      <th></th>\n",
       "      <th></th>\n",
       "      <th></th>\n",
       "      <th></th>\n",
       "      <th></th>\n",
       "      <th></th>\n",
       "      <th></th>\n",
       "      <th></th>\n",
       "      <th></th>\n",
       "      <th></th>\n",
       "      <th></th>\n",
       "      <th></th>\n",
       "      <th></th>\n",
       "      <th></th>\n",
       "      <th></th>\n",
       "      <th></th>\n",
       "      <th></th>\n",
       "      <th></th>\n",
       "      <th></th>\n",
       "      <th></th>\n",
       "      <th></th>\n",
       "      <th></th>\n",
       "      <th></th>\n",
       "      <th></th>\n",
       "      <th></th>\n",
       "      <th></th>\n",
       "      <th></th>\n",
       "      <th></th>\n",
       "      <th></th>\n",
       "      <th></th>\n",
       "      <th></th>\n",
       "      <th></th>\n",
       "      <th></th>\n",
       "      <th></th>\n",
       "      <th></th>\n",
       "      <th></th>\n",
       "      <th></th>\n",
       "      <th></th>\n",
       "      <th></th>\n",
       "      <th></th>\n",
       "      <th></th>\n",
       "      <th></th>\n",
       "      <th></th>\n",
       "      <th></th>\n",
       "      <th></th>\n",
       "      <th></th>\n",
       "      <th></th>\n",
       "      <th></th>\n",
       "      <th></th>\n",
       "      <th></th>\n",
       "      <th></th>\n",
       "      <th></th>\n",
       "      <th></th>\n",
       "      <th></th>\n",
       "      <th></th>\n",
       "      <th></th>\n",
       "      <th></th>\n",
       "      <th></th>\n",
       "    </tr>\n",
       "  </thead>\n",
       "  <tbody>\n",
       "    <tr>\n",
       "      <td>2021-04-01</td>\n",
       "      <td>35</td>\n",
       "      <td>12</td>\n",
       "      <td>18</td>\n",
       "      <td>12</td>\n",
       "      <td>7</td>\n",
       "      <td>6</td>\n",
       "      <td>2</td>\n",
       "      <td>2</td>\n",
       "      <td>0</td>\n",
       "      <td>6</td>\n",
       "      <td>5</td>\n",
       "      <td>0</td>\n",
       "      <td>7</td>\n",
       "      <td>3</td>\n",
       "      <td>12</td>\n",
       "      <td>0</td>\n",
       "      <td>7</td>\n",
       "      <td>3</td>\n",
       "      <td>5</td>\n",
       "      <td>0</td>\n",
       "      <td>0</td>\n",
       "      <td>1</td>\n",
       "      <td>14</td>\n",
       "      <td>17</td>\n",
       "      <td>0</td>\n",
       "      <td>1</td>\n",
       "      <td>0</td>\n",
       "      <td>0</td>\n",
       "      <td>0</td>\n",
       "      <td>3</td>\n",
       "      <td>0</td>\n",
       "      <td>0</td>\n",
       "      <td>0</td>\n",
       "      <td>8</td>\n",
       "      <td>0</td>\n",
       "      <td>0</td>\n",
       "      <td>0</td>\n",
       "      <td>1</td>\n",
       "      <td>0</td>\n",
       "      <td>12</td>\n",
       "      <td>20</td>\n",
       "      <td>0</td>\n",
       "      <td>0</td>\n",
       "      <td>0</td>\n",
       "      <td>0</td>\n",
       "      <td>15</td>\n",
       "      <td>16</td>\n",
       "      <td>0</td>\n",
       "      <td>0</td>\n",
       "      <td>0</td>\n",
       "      <td>0</td>\n",
       "      <td>2</td>\n",
       "      <td>24</td>\n",
       "      <td>0</td>\n",
       "      <td>7</td>\n",
       "      <td>0</td>\n",
       "      <td>0</td>\n",
       "      <td>0</td>\n",
       "      <td>0</td>\n",
       "      <td>0</td>\n",
       "      <td>8</td>\n",
       "      <td>0</td>\n",
       "      <td>0</td>\n",
       "      <td>12</td>\n",
       "      <td>13</td>\n",
       "      <td>0</td>\n",
       "      <td>0</td>\n",
       "      <td>0</td>\n",
       "      <td>0</td>\n",
       "    </tr>\n",
       "    <tr>\n",
       "      <td>2021-04-02</td>\n",
       "      <td>0</td>\n",
       "      <td>12</td>\n",
       "      <td>11</td>\n",
       "      <td>16</td>\n",
       "      <td>3</td>\n",
       "      <td>5</td>\n",
       "      <td>2</td>\n",
       "      <td>4</td>\n",
       "      <td>3</td>\n",
       "      <td>9</td>\n",
       "      <td>8</td>\n",
       "      <td>0</td>\n",
       "      <td>5</td>\n",
       "      <td>6</td>\n",
       "      <td>11</td>\n",
       "      <td>12</td>\n",
       "      <td>1</td>\n",
       "      <td>5</td>\n",
       "      <td>1</td>\n",
       "      <td>0</td>\n",
       "      <td>0</td>\n",
       "      <td>0</td>\n",
       "      <td>0</td>\n",
       "      <td>0</td>\n",
       "      <td>0</td>\n",
       "      <td>0</td>\n",
       "      <td>10</td>\n",
       "      <td>0</td>\n",
       "      <td>0</td>\n",
       "      <td>0</td>\n",
       "      <td>0</td>\n",
       "      <td>14</td>\n",
       "      <td>0</td>\n",
       "      <td>0</td>\n",
       "      <td>0</td>\n",
       "      <td>0</td>\n",
       "      <td>0</td>\n",
       "      <td>0</td>\n",
       "      <td>6</td>\n",
       "      <td>0</td>\n",
       "      <td>0</td>\n",
       "      <td>0</td>\n",
       "      <td>0</td>\n",
       "      <td>0</td>\n",
       "      <td>0</td>\n",
       "      <td>0</td>\n",
       "      <td>0</td>\n",
       "      <td>0</td>\n",
       "      <td>0</td>\n",
       "      <td>16</td>\n",
       "      <td>0</td>\n",
       "      <td>0</td>\n",
       "      <td>0</td>\n",
       "      <td>0</td>\n",
       "      <td>0</td>\n",
       "      <td>0</td>\n",
       "      <td>0</td>\n",
       "      <td>0</td>\n",
       "      <td>0</td>\n",
       "      <td>0</td>\n",
       "      <td>0</td>\n",
       "      <td>0</td>\n",
       "      <td>0</td>\n",
       "      <td>0</td>\n",
       "      <td>0</td>\n",
       "      <td>0</td>\n",
       "      <td>0</td>\n",
       "      <td>3</td>\n",
       "      <td>0</td>\n",
       "    </tr>\n",
       "    <tr>\n",
       "      <td>2021-04-03</td>\n",
       "      <td>0</td>\n",
       "      <td>0</td>\n",
       "      <td>13</td>\n",
       "      <td>7</td>\n",
       "      <td>14</td>\n",
       "      <td>10</td>\n",
       "      <td>26</td>\n",
       "      <td>18</td>\n",
       "      <td>7</td>\n",
       "      <td>19</td>\n",
       "      <td>11</td>\n",
       "      <td>6</td>\n",
       "      <td>3</td>\n",
       "      <td>0</td>\n",
       "      <td>0</td>\n",
       "      <td>0</td>\n",
       "      <td>26</td>\n",
       "      <td>5</td>\n",
       "      <td>5</td>\n",
       "      <td>7</td>\n",
       "      <td>3</td>\n",
       "      <td>0</td>\n",
       "      <td>2</td>\n",
       "      <td>0</td>\n",
       "      <td>6</td>\n",
       "      <td>0</td>\n",
       "      <td>0</td>\n",
       "      <td>0</td>\n",
       "      <td>0</td>\n",
       "      <td>0</td>\n",
       "      <td>0</td>\n",
       "      <td>8</td>\n",
       "      <td>15</td>\n",
       "      <td>15</td>\n",
       "      <td>0</td>\n",
       "      <td>0</td>\n",
       "      <td>1</td>\n",
       "      <td>0</td>\n",
       "      <td>26</td>\n",
       "      <td>10</td>\n",
       "      <td>1</td>\n",
       "      <td>0</td>\n",
       "      <td>26</td>\n",
       "      <td>8</td>\n",
       "      <td>7</td>\n",
       "      <td>3</td>\n",
       "      <td>0</td>\n",
       "      <td>0</td>\n",
       "      <td>0</td>\n",
       "      <td>0</td>\n",
       "      <td>0</td>\n",
       "      <td>2</td>\n",
       "      <td>0</td>\n",
       "      <td>1</td>\n",
       "      <td>7</td>\n",
       "      <td>0</td>\n",
       "      <td>0</td>\n",
       "      <td>0</td>\n",
       "      <td>0</td>\n",
       "      <td>0</td>\n",
       "      <td>9</td>\n",
       "      <td>13</td>\n",
       "      <td>0</td>\n",
       "      <td>9</td>\n",
       "      <td>0</td>\n",
       "      <td>0</td>\n",
       "      <td>8</td>\n",
       "      <td>0</td>\n",
       "      <td>0</td>\n",
       "    </tr>\n",
       "    <tr>\n",
       "      <td>2021-04-04</td>\n",
       "      <td>0</td>\n",
       "      <td>0</td>\n",
       "      <td>0</td>\n",
       "      <td>11</td>\n",
       "      <td>14</td>\n",
       "      <td>24</td>\n",
       "      <td>27</td>\n",
       "      <td>15</td>\n",
       "      <td>47</td>\n",
       "      <td>8</td>\n",
       "      <td>41</td>\n",
       "      <td>22</td>\n",
       "      <td>29</td>\n",
       "      <td>29</td>\n",
       "      <td>25</td>\n",
       "      <td>19</td>\n",
       "      <td>15</td>\n",
       "      <td>25</td>\n",
       "      <td>10</td>\n",
       "      <td>10</td>\n",
       "      <td>21</td>\n",
       "      <td>21</td>\n",
       "      <td>5</td>\n",
       "      <td>5</td>\n",
       "      <td>2</td>\n",
       "      <td>27</td>\n",
       "      <td>0</td>\n",
       "      <td>9</td>\n",
       "      <td>2</td>\n",
       "      <td>9</td>\n",
       "      <td>29</td>\n",
       "      <td>19</td>\n",
       "      <td>45</td>\n",
       "      <td>13</td>\n",
       "      <td>24</td>\n",
       "      <td>33</td>\n",
       "      <td>9</td>\n",
       "      <td>56</td>\n",
       "      <td>13</td>\n",
       "      <td>0</td>\n",
       "      <td>0</td>\n",
       "      <td>10</td>\n",
       "      <td>29</td>\n",
       "      <td>15</td>\n",
       "      <td>9</td>\n",
       "      <td>12</td>\n",
       "      <td>12</td>\n",
       "      <td>13</td>\n",
       "      <td>14</td>\n",
       "      <td>14</td>\n",
       "      <td>27</td>\n",
       "      <td>5</td>\n",
       "      <td>0</td>\n",
       "      <td>119</td>\n",
       "      <td>0</td>\n",
       "      <td>43</td>\n",
       "      <td>19</td>\n",
       "      <td>0</td>\n",
       "      <td>25</td>\n",
       "      <td>34</td>\n",
       "      <td>73</td>\n",
       "      <td>3</td>\n",
       "      <td>0</td>\n",
       "      <td>0</td>\n",
       "      <td>21</td>\n",
       "      <td>63</td>\n",
       "      <td>0</td>\n",
       "      <td>1</td>\n",
       "      <td>0</td>\n",
       "    </tr>\n",
       "    <tr>\n",
       "      <td>2021-04-05</td>\n",
       "      <td>0</td>\n",
       "      <td>0</td>\n",
       "      <td>0</td>\n",
       "      <td>0</td>\n",
       "      <td>7</td>\n",
       "      <td>12</td>\n",
       "      <td>21</td>\n",
       "      <td>35</td>\n",
       "      <td>32</td>\n",
       "      <td>36</td>\n",
       "      <td>41</td>\n",
       "      <td>58</td>\n",
       "      <td>30</td>\n",
       "      <td>51</td>\n",
       "      <td>56</td>\n",
       "      <td>112</td>\n",
       "      <td>42</td>\n",
       "      <td>9</td>\n",
       "      <td>8</td>\n",
       "      <td>6</td>\n",
       "      <td>7</td>\n",
       "      <td>0</td>\n",
       "      <td>0</td>\n",
       "      <td>5</td>\n",
       "      <td>6</td>\n",
       "      <td>14</td>\n",
       "      <td>50</td>\n",
       "      <td>38</td>\n",
       "      <td>216</td>\n",
       "      <td>5</td>\n",
       "      <td>24</td>\n",
       "      <td>37</td>\n",
       "      <td>0</td>\n",
       "      <td>3</td>\n",
       "      <td>29</td>\n",
       "      <td>8</td>\n",
       "      <td>21</td>\n",
       "      <td>2</td>\n",
       "      <td>4</td>\n",
       "      <td>2</td>\n",
       "      <td>13</td>\n",
       "      <td>66</td>\n",
       "      <td>6</td>\n",
       "      <td>35</td>\n",
       "      <td>14</td>\n",
       "      <td>14</td>\n",
       "      <td>6</td>\n",
       "      <td>14</td>\n",
       "      <td>16</td>\n",
       "      <td>13</td>\n",
       "      <td>8</td>\n",
       "      <td>18</td>\n",
       "      <td>2</td>\n",
       "      <td>0</td>\n",
       "      <td>0</td>\n",
       "      <td>5</td>\n",
       "      <td>19</td>\n",
       "      <td>24</td>\n",
       "      <td>4</td>\n",
       "      <td>6</td>\n",
       "      <td>31</td>\n",
       "      <td>8</td>\n",
       "      <td>38</td>\n",
       "      <td>11</td>\n",
       "      <td>26</td>\n",
       "      <td>21</td>\n",
       "      <td>18</td>\n",
       "      <td>13</td>\n",
       "      <td>5</td>\n",
       "    </tr>\n",
       "    <tr>\n",
       "      <td>...</td>\n",
       "      <td>...</td>\n",
       "      <td>...</td>\n",
       "      <td>...</td>\n",
       "      <td>...</td>\n",
       "      <td>...</td>\n",
       "      <td>...</td>\n",
       "      <td>...</td>\n",
       "      <td>...</td>\n",
       "      <td>...</td>\n",
       "      <td>...</td>\n",
       "      <td>...</td>\n",
       "      <td>...</td>\n",
       "      <td>...</td>\n",
       "      <td>...</td>\n",
       "      <td>...</td>\n",
       "      <td>...</td>\n",
       "      <td>...</td>\n",
       "      <td>...</td>\n",
       "      <td>...</td>\n",
       "      <td>...</td>\n",
       "      <td>...</td>\n",
       "      <td>...</td>\n",
       "      <td>...</td>\n",
       "      <td>...</td>\n",
       "      <td>...</td>\n",
       "      <td>...</td>\n",
       "      <td>...</td>\n",
       "      <td>...</td>\n",
       "      <td>...</td>\n",
       "      <td>...</td>\n",
       "      <td>...</td>\n",
       "      <td>...</td>\n",
       "      <td>...</td>\n",
       "      <td>...</td>\n",
       "      <td>...</td>\n",
       "      <td>...</td>\n",
       "      <td>...</td>\n",
       "      <td>...</td>\n",
       "      <td>...</td>\n",
       "      <td>...</td>\n",
       "      <td>...</td>\n",
       "      <td>...</td>\n",
       "      <td>...</td>\n",
       "      <td>...</td>\n",
       "      <td>...</td>\n",
       "      <td>...</td>\n",
       "      <td>...</td>\n",
       "      <td>...</td>\n",
       "      <td>...</td>\n",
       "      <td>...</td>\n",
       "      <td>...</td>\n",
       "      <td>...</td>\n",
       "      <td>...</td>\n",
       "      <td>...</td>\n",
       "      <td>...</td>\n",
       "      <td>...</td>\n",
       "      <td>...</td>\n",
       "      <td>...</td>\n",
       "      <td>...</td>\n",
       "      <td>...</td>\n",
       "      <td>...</td>\n",
       "      <td>...</td>\n",
       "      <td>...</td>\n",
       "      <td>...</td>\n",
       "      <td>...</td>\n",
       "      <td>...</td>\n",
       "      <td>...</td>\n",
       "      <td>...</td>\n",
       "      <td>...</td>\n",
       "    </tr>\n",
       "    <tr>\n",
       "      <td>2021-06-04</td>\n",
       "      <td>0</td>\n",
       "      <td>0</td>\n",
       "      <td>0</td>\n",
       "      <td>0</td>\n",
       "      <td>0</td>\n",
       "      <td>0</td>\n",
       "      <td>0</td>\n",
       "      <td>0</td>\n",
       "      <td>0</td>\n",
       "      <td>0</td>\n",
       "      <td>0</td>\n",
       "      <td>0</td>\n",
       "      <td>0</td>\n",
       "      <td>0</td>\n",
       "      <td>0</td>\n",
       "      <td>0</td>\n",
       "      <td>0</td>\n",
       "      <td>0</td>\n",
       "      <td>0</td>\n",
       "      <td>0</td>\n",
       "      <td>0</td>\n",
       "      <td>0</td>\n",
       "      <td>0</td>\n",
       "      <td>0</td>\n",
       "      <td>0</td>\n",
       "      <td>0</td>\n",
       "      <td>0</td>\n",
       "      <td>0</td>\n",
       "      <td>0</td>\n",
       "      <td>0</td>\n",
       "      <td>0</td>\n",
       "      <td>0</td>\n",
       "      <td>0</td>\n",
       "      <td>0</td>\n",
       "      <td>0</td>\n",
       "      <td>0</td>\n",
       "      <td>0</td>\n",
       "      <td>0</td>\n",
       "      <td>0</td>\n",
       "      <td>0</td>\n",
       "      <td>0</td>\n",
       "      <td>0</td>\n",
       "      <td>0</td>\n",
       "      <td>0</td>\n",
       "      <td>0</td>\n",
       "      <td>0</td>\n",
       "      <td>0</td>\n",
       "      <td>0</td>\n",
       "      <td>0</td>\n",
       "      <td>0</td>\n",
       "      <td>0</td>\n",
       "      <td>0</td>\n",
       "      <td>0</td>\n",
       "      <td>0</td>\n",
       "      <td>0</td>\n",
       "      <td>0</td>\n",
       "      <td>0</td>\n",
       "      <td>0</td>\n",
       "      <td>0</td>\n",
       "      <td>0</td>\n",
       "      <td>0</td>\n",
       "      <td>0</td>\n",
       "      <td>0</td>\n",
       "      <td>0</td>\n",
       "      <td>9</td>\n",
       "      <td>21</td>\n",
       "      <td>7</td>\n",
       "      <td>19</td>\n",
       "      <td>7</td>\n",
       "    </tr>\n",
       "    <tr>\n",
       "      <td>2021-06-05</td>\n",
       "      <td>0</td>\n",
       "      <td>0</td>\n",
       "      <td>0</td>\n",
       "      <td>0</td>\n",
       "      <td>0</td>\n",
       "      <td>0</td>\n",
       "      <td>0</td>\n",
       "      <td>0</td>\n",
       "      <td>0</td>\n",
       "      <td>0</td>\n",
       "      <td>0</td>\n",
       "      <td>0</td>\n",
       "      <td>0</td>\n",
       "      <td>0</td>\n",
       "      <td>0</td>\n",
       "      <td>0</td>\n",
       "      <td>0</td>\n",
       "      <td>0</td>\n",
       "      <td>0</td>\n",
       "      <td>0</td>\n",
       "      <td>0</td>\n",
       "      <td>0</td>\n",
       "      <td>0</td>\n",
       "      <td>0</td>\n",
       "      <td>0</td>\n",
       "      <td>0</td>\n",
       "      <td>0</td>\n",
       "      <td>0</td>\n",
       "      <td>0</td>\n",
       "      <td>0</td>\n",
       "      <td>0</td>\n",
       "      <td>0</td>\n",
       "      <td>0</td>\n",
       "      <td>0</td>\n",
       "      <td>0</td>\n",
       "      <td>0</td>\n",
       "      <td>0</td>\n",
       "      <td>0</td>\n",
       "      <td>0</td>\n",
       "      <td>0</td>\n",
       "      <td>0</td>\n",
       "      <td>0</td>\n",
       "      <td>0</td>\n",
       "      <td>0</td>\n",
       "      <td>0</td>\n",
       "      <td>0</td>\n",
       "      <td>0</td>\n",
       "      <td>0</td>\n",
       "      <td>0</td>\n",
       "      <td>0</td>\n",
       "      <td>0</td>\n",
       "      <td>0</td>\n",
       "      <td>0</td>\n",
       "      <td>0</td>\n",
       "      <td>0</td>\n",
       "      <td>0</td>\n",
       "      <td>0</td>\n",
       "      <td>0</td>\n",
       "      <td>0</td>\n",
       "      <td>0</td>\n",
       "      <td>0</td>\n",
       "      <td>0</td>\n",
       "      <td>0</td>\n",
       "      <td>0</td>\n",
       "      <td>0</td>\n",
       "      <td>10</td>\n",
       "      <td>6</td>\n",
       "      <td>4</td>\n",
       "      <td>2</td>\n",
       "    </tr>\n",
       "    <tr>\n",
       "      <td>2021-06-06</td>\n",
       "      <td>0</td>\n",
       "      <td>0</td>\n",
       "      <td>0</td>\n",
       "      <td>0</td>\n",
       "      <td>0</td>\n",
       "      <td>0</td>\n",
       "      <td>0</td>\n",
       "      <td>0</td>\n",
       "      <td>0</td>\n",
       "      <td>0</td>\n",
       "      <td>0</td>\n",
       "      <td>0</td>\n",
       "      <td>0</td>\n",
       "      <td>0</td>\n",
       "      <td>0</td>\n",
       "      <td>0</td>\n",
       "      <td>0</td>\n",
       "      <td>0</td>\n",
       "      <td>0</td>\n",
       "      <td>0</td>\n",
       "      <td>0</td>\n",
       "      <td>0</td>\n",
       "      <td>0</td>\n",
       "      <td>0</td>\n",
       "      <td>0</td>\n",
       "      <td>0</td>\n",
       "      <td>0</td>\n",
       "      <td>0</td>\n",
       "      <td>0</td>\n",
       "      <td>0</td>\n",
       "      <td>0</td>\n",
       "      <td>0</td>\n",
       "      <td>0</td>\n",
       "      <td>0</td>\n",
       "      <td>0</td>\n",
       "      <td>0</td>\n",
       "      <td>0</td>\n",
       "      <td>0</td>\n",
       "      <td>0</td>\n",
       "      <td>0</td>\n",
       "      <td>0</td>\n",
       "      <td>0</td>\n",
       "      <td>0</td>\n",
       "      <td>0</td>\n",
       "      <td>0</td>\n",
       "      <td>0</td>\n",
       "      <td>0</td>\n",
       "      <td>0</td>\n",
       "      <td>0</td>\n",
       "      <td>0</td>\n",
       "      <td>0</td>\n",
       "      <td>0</td>\n",
       "      <td>0</td>\n",
       "      <td>0</td>\n",
       "      <td>0</td>\n",
       "      <td>0</td>\n",
       "      <td>0</td>\n",
       "      <td>0</td>\n",
       "      <td>0</td>\n",
       "      <td>0</td>\n",
       "      <td>0</td>\n",
       "      <td>0</td>\n",
       "      <td>0</td>\n",
       "      <td>0</td>\n",
       "      <td>0</td>\n",
       "      <td>0</td>\n",
       "      <td>7</td>\n",
       "      <td>12</td>\n",
       "      <td>4</td>\n",
       "    </tr>\n",
       "    <tr>\n",
       "      <td>2021-06-07</td>\n",
       "      <td>0</td>\n",
       "      <td>0</td>\n",
       "      <td>0</td>\n",
       "      <td>0</td>\n",
       "      <td>0</td>\n",
       "      <td>0</td>\n",
       "      <td>0</td>\n",
       "      <td>0</td>\n",
       "      <td>0</td>\n",
       "      <td>0</td>\n",
       "      <td>0</td>\n",
       "      <td>0</td>\n",
       "      <td>0</td>\n",
       "      <td>0</td>\n",
       "      <td>0</td>\n",
       "      <td>0</td>\n",
       "      <td>0</td>\n",
       "      <td>0</td>\n",
       "      <td>0</td>\n",
       "      <td>0</td>\n",
       "      <td>0</td>\n",
       "      <td>0</td>\n",
       "      <td>0</td>\n",
       "      <td>0</td>\n",
       "      <td>0</td>\n",
       "      <td>0</td>\n",
       "      <td>0</td>\n",
       "      <td>0</td>\n",
       "      <td>0</td>\n",
       "      <td>0</td>\n",
       "      <td>0</td>\n",
       "      <td>0</td>\n",
       "      <td>0</td>\n",
       "      <td>0</td>\n",
       "      <td>0</td>\n",
       "      <td>0</td>\n",
       "      <td>0</td>\n",
       "      <td>0</td>\n",
       "      <td>0</td>\n",
       "      <td>0</td>\n",
       "      <td>0</td>\n",
       "      <td>0</td>\n",
       "      <td>0</td>\n",
       "      <td>0</td>\n",
       "      <td>0</td>\n",
       "      <td>0</td>\n",
       "      <td>0</td>\n",
       "      <td>0</td>\n",
       "      <td>0</td>\n",
       "      <td>0</td>\n",
       "      <td>0</td>\n",
       "      <td>0</td>\n",
       "      <td>0</td>\n",
       "      <td>0</td>\n",
       "      <td>0</td>\n",
       "      <td>0</td>\n",
       "      <td>0</td>\n",
       "      <td>0</td>\n",
       "      <td>0</td>\n",
       "      <td>0</td>\n",
       "      <td>0</td>\n",
       "      <td>0</td>\n",
       "      <td>0</td>\n",
       "      <td>0</td>\n",
       "      <td>0</td>\n",
       "      <td>0</td>\n",
       "      <td>0</td>\n",
       "      <td>11</td>\n",
       "      <td>9</td>\n",
       "    </tr>\n",
       "    <tr>\n",
       "      <td>2021-06-08</td>\n",
       "      <td>0</td>\n",
       "      <td>0</td>\n",
       "      <td>0</td>\n",
       "      <td>0</td>\n",
       "      <td>0</td>\n",
       "      <td>0</td>\n",
       "      <td>0</td>\n",
       "      <td>0</td>\n",
       "      <td>0</td>\n",
       "      <td>0</td>\n",
       "      <td>0</td>\n",
       "      <td>0</td>\n",
       "      <td>0</td>\n",
       "      <td>0</td>\n",
       "      <td>0</td>\n",
       "      <td>0</td>\n",
       "      <td>0</td>\n",
       "      <td>0</td>\n",
       "      <td>0</td>\n",
       "      <td>0</td>\n",
       "      <td>0</td>\n",
       "      <td>0</td>\n",
       "      <td>0</td>\n",
       "      <td>0</td>\n",
       "      <td>0</td>\n",
       "      <td>0</td>\n",
       "      <td>0</td>\n",
       "      <td>0</td>\n",
       "      <td>0</td>\n",
       "      <td>0</td>\n",
       "      <td>0</td>\n",
       "      <td>0</td>\n",
       "      <td>0</td>\n",
       "      <td>0</td>\n",
       "      <td>0</td>\n",
       "      <td>0</td>\n",
       "      <td>0</td>\n",
       "      <td>0</td>\n",
       "      <td>0</td>\n",
       "      <td>0</td>\n",
       "      <td>0</td>\n",
       "      <td>0</td>\n",
       "      <td>0</td>\n",
       "      <td>0</td>\n",
       "      <td>0</td>\n",
       "      <td>0</td>\n",
       "      <td>0</td>\n",
       "      <td>0</td>\n",
       "      <td>0</td>\n",
       "      <td>0</td>\n",
       "      <td>0</td>\n",
       "      <td>0</td>\n",
       "      <td>0</td>\n",
       "      <td>0</td>\n",
       "      <td>0</td>\n",
       "      <td>0</td>\n",
       "      <td>0</td>\n",
       "      <td>0</td>\n",
       "      <td>0</td>\n",
       "      <td>0</td>\n",
       "      <td>0</td>\n",
       "      <td>0</td>\n",
       "      <td>0</td>\n",
       "      <td>0</td>\n",
       "      <td>0</td>\n",
       "      <td>0</td>\n",
       "      <td>0</td>\n",
       "      <td>0</td>\n",
       "      <td>1</td>\n",
       "    </tr>\n",
       "  </tbody>\n",
       "</table>\n",
       "<p>69 rows × 69 columns</p>\n",
       "</div>"
      ],
      "text/plain": [
       "                  pay_amount                                              \\\n",
       "                        mean                                               \n",
       "pay_date_datetime 2021-04-01 2021-04-02 2021-04-03 2021-04-04 2021-04-05   \n",
       "reg_date_datetime                                                          \n",
       "2021-04-01                35         12         18         12          7   \n",
       "2021-04-02                 0         12         11         16          3   \n",
       "2021-04-03                 0          0         13          7         14   \n",
       "2021-04-04                 0          0          0         11         14   \n",
       "2021-04-05                 0          0          0          0          7   \n",
       "...                      ...        ...        ...        ...        ...   \n",
       "2021-06-04                 0          0          0          0          0   \n",
       "2021-06-05                 0          0          0          0          0   \n",
       "2021-06-06                 0          0          0          0          0   \n",
       "2021-06-07                 0          0          0          0          0   \n",
       "2021-06-08                 0          0          0          0          0   \n",
       "\n",
       "                                                                          \\\n",
       "                                                                           \n",
       "pay_date_datetime 2021-04-06 2021-04-07 2021-04-08 2021-04-09 2021-04-10   \n",
       "reg_date_datetime                                                          \n",
       "2021-04-01                 6          2          2          0          6   \n",
       "2021-04-02                 5          2          4          3          9   \n",
       "2021-04-03                10         26         18          7         19   \n",
       "2021-04-04                24         27         15         47          8   \n",
       "2021-04-05                12         21         35         32         36   \n",
       "...                      ...        ...        ...        ...        ...   \n",
       "2021-06-04                 0          0          0          0          0   \n",
       "2021-06-05                 0          0          0          0          0   \n",
       "2021-06-06                 0          0          0          0          0   \n",
       "2021-06-07                 0          0          0          0          0   \n",
       "2021-06-08                 0          0          0          0          0   \n",
       "\n",
       "                                                                          \\\n",
       "                                                                           \n",
       "pay_date_datetime 2021-04-11 2021-04-12 2021-04-13 2021-04-14 2021-04-15   \n",
       "reg_date_datetime                                                          \n",
       "2021-04-01                 5          0          7          3         12   \n",
       "2021-04-02                 8          0          5          6         11   \n",
       "2021-04-03                11          6          3          0          0   \n",
       "2021-04-04                41         22         29         29         25   \n",
       "2021-04-05                41         58         30         51         56   \n",
       "...                      ...        ...        ...        ...        ...   \n",
       "2021-06-04                 0          0          0          0          0   \n",
       "2021-06-05                 0          0          0          0          0   \n",
       "2021-06-06                 0          0          0          0          0   \n",
       "2021-06-07                 0          0          0          0          0   \n",
       "2021-06-08                 0          0          0          0          0   \n",
       "\n",
       "                                                                          \\\n",
       "                                                                           \n",
       "pay_date_datetime 2021-04-16 2021-04-17 2021-04-18 2021-04-19 2021-04-20   \n",
       "reg_date_datetime                                                          \n",
       "2021-04-01                 0          7          3          5          0   \n",
       "2021-04-02                12          1          5          1          0   \n",
       "2021-04-03                 0         26          5          5          7   \n",
       "2021-04-04                19         15         25         10         10   \n",
       "2021-04-05               112         42          9          8          6   \n",
       "...                      ...        ...        ...        ...        ...   \n",
       "2021-06-04                 0          0          0          0          0   \n",
       "2021-06-05                 0          0          0          0          0   \n",
       "2021-06-06                 0          0          0          0          0   \n",
       "2021-06-07                 0          0          0          0          0   \n",
       "2021-06-08                 0          0          0          0          0   \n",
       "\n",
       "                                                                          \\\n",
       "                                                                           \n",
       "pay_date_datetime 2021-04-21 2021-04-22 2021-04-23 2021-04-24 2021-04-25   \n",
       "reg_date_datetime                                                          \n",
       "2021-04-01                 0          1         14         17          0   \n",
       "2021-04-02                 0          0          0          0          0   \n",
       "2021-04-03                 3          0          2          0          6   \n",
       "2021-04-04                21         21          5          5          2   \n",
       "2021-04-05                 7          0          0          5          6   \n",
       "...                      ...        ...        ...        ...        ...   \n",
       "2021-06-04                 0          0          0          0          0   \n",
       "2021-06-05                 0          0          0          0          0   \n",
       "2021-06-06                 0          0          0          0          0   \n",
       "2021-06-07                 0          0          0          0          0   \n",
       "2021-06-08                 0          0          0          0          0   \n",
       "\n",
       "                                                                          \\\n",
       "                                                                           \n",
       "pay_date_datetime 2021-04-26 2021-04-27 2021-04-28 2021-04-29 2021-04-30   \n",
       "reg_date_datetime                                                          \n",
       "2021-04-01                 1          0          0          0          3   \n",
       "2021-04-02                 0         10          0          0          0   \n",
       "2021-04-03                 0          0          0          0          0   \n",
       "2021-04-04                27          0          9          2          9   \n",
       "2021-04-05                14         50         38        216          5   \n",
       "...                      ...        ...        ...        ...        ...   \n",
       "2021-06-04                 0          0          0          0          0   \n",
       "2021-06-05                 0          0          0          0          0   \n",
       "2021-06-06                 0          0          0          0          0   \n",
       "2021-06-07                 0          0          0          0          0   \n",
       "2021-06-08                 0          0          0          0          0   \n",
       "\n",
       "                                                                          \\\n",
       "                                                                           \n",
       "pay_date_datetime 2021-05-01 2021-05-02 2021-05-03 2021-05-04 2021-05-05   \n",
       "reg_date_datetime                                                          \n",
       "2021-04-01                 0          0          0          8          0   \n",
       "2021-04-02                 0         14          0          0          0   \n",
       "2021-04-03                 0          8         15         15          0   \n",
       "2021-04-04                29         19         45         13         24   \n",
       "2021-04-05                24         37          0          3         29   \n",
       "...                      ...        ...        ...        ...        ...   \n",
       "2021-06-04                 0          0          0          0          0   \n",
       "2021-06-05                 0          0          0          0          0   \n",
       "2021-06-06                 0          0          0          0          0   \n",
       "2021-06-07                 0          0          0          0          0   \n",
       "2021-06-08                 0          0          0          0          0   \n",
       "\n",
       "                                                                          \\\n",
       "                                                                           \n",
       "pay_date_datetime 2021-05-06 2021-05-07 2021-05-08 2021-05-09 2021-05-10   \n",
       "reg_date_datetime                                                          \n",
       "2021-04-01                 0          0          1          0         12   \n",
       "2021-04-02                 0          0          0          6          0   \n",
       "2021-04-03                 0          1          0         26         10   \n",
       "2021-04-04                33          9         56         13          0   \n",
       "2021-04-05                 8         21          2          4          2   \n",
       "...                      ...        ...        ...        ...        ...   \n",
       "2021-06-04                 0          0          0          0          0   \n",
       "2021-06-05                 0          0          0          0          0   \n",
       "2021-06-06                 0          0          0          0          0   \n",
       "2021-06-07                 0          0          0          0          0   \n",
       "2021-06-08                 0          0          0          0          0   \n",
       "\n",
       "                                                                          \\\n",
       "                                                                           \n",
       "pay_date_datetime 2021-05-11 2021-05-12 2021-05-13 2021-05-14 2021-05-15   \n",
       "reg_date_datetime                                                          \n",
       "2021-04-01                20          0          0          0          0   \n",
       "2021-04-02                 0          0          0          0          0   \n",
       "2021-04-03                 1          0         26          8          7   \n",
       "2021-04-04                 0         10         29         15          9   \n",
       "2021-04-05                13         66          6         35         14   \n",
       "...                      ...        ...        ...        ...        ...   \n",
       "2021-06-04                 0          0          0          0          0   \n",
       "2021-06-05                 0          0          0          0          0   \n",
       "2021-06-06                 0          0          0          0          0   \n",
       "2021-06-07                 0          0          0          0          0   \n",
       "2021-06-08                 0          0          0          0          0   \n",
       "\n",
       "                                                                          \\\n",
       "                                                                           \n",
       "pay_date_datetime 2021-05-16 2021-05-17 2021-05-18 2021-05-19 2021-05-20   \n",
       "reg_date_datetime                                                          \n",
       "2021-04-01                15         16          0          0          0   \n",
       "2021-04-02                 0          0          0          0         16   \n",
       "2021-04-03                 3          0          0          0          0   \n",
       "2021-04-04                12         12         13         14         14   \n",
       "2021-04-05                14          6         14         16         13   \n",
       "...                      ...        ...        ...        ...        ...   \n",
       "2021-06-04                 0          0          0          0          0   \n",
       "2021-06-05                 0          0          0          0          0   \n",
       "2021-06-06                 0          0          0          0          0   \n",
       "2021-06-07                 0          0          0          0          0   \n",
       "2021-06-08                 0          0          0          0          0   \n",
       "\n",
       "                                                                          \\\n",
       "                                                                           \n",
       "pay_date_datetime 2021-05-21 2021-05-22 2021-05-23 2021-05-24 2021-05-25   \n",
       "reg_date_datetime                                                          \n",
       "2021-04-01                 0          2         24          0          7   \n",
       "2021-04-02                 0          0          0          0          0   \n",
       "2021-04-03                 0          2          0          1          7   \n",
       "2021-04-04                27          5          0        119          0   \n",
       "2021-04-05                 8         18          2          0          0   \n",
       "...                      ...        ...        ...        ...        ...   \n",
       "2021-06-04                 0          0          0          0          0   \n",
       "2021-06-05                 0          0          0          0          0   \n",
       "2021-06-06                 0          0          0          0          0   \n",
       "2021-06-07                 0          0          0          0          0   \n",
       "2021-06-08                 0          0          0          0          0   \n",
       "\n",
       "                                                                          \\\n",
       "                                                                           \n",
       "pay_date_datetime 2021-05-26 2021-05-27 2021-05-28 2021-05-29 2021-05-30   \n",
       "reg_date_datetime                                                          \n",
       "2021-04-01                 0          0          0          0          0   \n",
       "2021-04-02                 0          0          0          0          0   \n",
       "2021-04-03                 0          0          0          0          0   \n",
       "2021-04-04                43         19          0         25         34   \n",
       "2021-04-05                 5         19         24          4          6   \n",
       "...                      ...        ...        ...        ...        ...   \n",
       "2021-06-04                 0          0          0          0          0   \n",
       "2021-06-05                 0          0          0          0          0   \n",
       "2021-06-06                 0          0          0          0          0   \n",
       "2021-06-07                 0          0          0          0          0   \n",
       "2021-06-08                 0          0          0          0          0   \n",
       "\n",
       "                                                                          \\\n",
       "                                                                           \n",
       "pay_date_datetime 2021-05-31 2021-06-01 2021-06-02 2021-06-03 2021-06-04   \n",
       "reg_date_datetime                                                          \n",
       "2021-04-01                 8          0          0         12         13   \n",
       "2021-04-02                 0          0          0          0          0   \n",
       "2021-04-03                 9         13          0          9          0   \n",
       "2021-04-04                73          3          0          0         21   \n",
       "2021-04-05                31          8         38         11         26   \n",
       "...                      ...        ...        ...        ...        ...   \n",
       "2021-06-04                 0          0          0          0          9   \n",
       "2021-06-05                 0          0          0          0          0   \n",
       "2021-06-06                 0          0          0          0          0   \n",
       "2021-06-07                 0          0          0          0          0   \n",
       "2021-06-08                 0          0          0          0          0   \n",
       "\n",
       "                                                               \n",
       "                                                               \n",
       "pay_date_datetime 2021-06-05 2021-06-06 2021-06-07 2021-06-08  \n",
       "reg_date_datetime                                              \n",
       "2021-04-01                 0          0          0          0  \n",
       "2021-04-02                 0          0          3          0  \n",
       "2021-04-03                 0          8          0          0  \n",
       "2021-04-04                63          0          1          0  \n",
       "2021-04-05                21         18         13          5  \n",
       "...                      ...        ...        ...        ...  \n",
       "2021-06-04                21          7         19          7  \n",
       "2021-06-05                10          6          4          2  \n",
       "2021-06-06                 0          7         12          4  \n",
       "2021-06-07                 0          0         11          9  \n",
       "2021-06-08                 0          0          0          1  \n",
       "\n",
       "[69 rows x 69 columns]"
      ]
     },
     "execution_count": 28,
     "metadata": {},
     "output_type": "execute_result"
    }
   ],
   "source": [
    "# LTV в среднем за анализируемый период (оценка)\n",
    "ltv_all = pd.pivot_table(total,\n",
    "                       index=['reg_date_datetime'],\n",
    "                       columns=['pay_date_datetime'],\n",
    "                       values=['pay_amount'],\n",
    "                       aggfunc={'pay_amount': [np.mean]},\n",
    "                       fill_value=0).astype('int')\n",
    "pd.set_option(\"display.max_columns\",140)\n",
    "\n",
    "ltv_all"
   ]
  },
  {
   "cell_type": "markdown",
   "metadata": {},
   "source": [
    "3.Посмотреть источники трафика + страны и попробовать построить LTV (пункт 1 и пункт 2, то есть оценка и прогноз на 180 день) по самым крупным источникам трафика отдельно, выбрать 3 источника + страну. \n",
    "\n",
    "Пример:\n",
    "a. Страна - DE, источник - ORGANIC\n",
    "b. Страна - BR, источник - Facebook Ads\n",
    "c. Страна - US, источник - googleadwords_int"
   ]
  },
  {
   "cell_type": "code",
   "execution_count": 30,
   "metadata": {},
   "outputs": [
    {
     "data": {
      "text/html": [
       "<div>\n",
       "<style scoped>\n",
       "    .dataframe tbody tr th:only-of-type {\n",
       "        vertical-align: middle;\n",
       "    }\n",
       "\n",
       "    .dataframe tbody tr th {\n",
       "        vertical-align: top;\n",
       "    }\n",
       "\n",
       "    .dataframe thead tr th {\n",
       "        text-align: left;\n",
       "    }\n",
       "\n",
       "    .dataframe thead tr:last-of-type th {\n",
       "        text-align: right;\n",
       "    }\n",
       "</style>\n",
       "<table border=\"1\" class=\"dataframe\">\n",
       "  <thead>\n",
       "    <tr>\n",
       "      <th></th>\n",
       "      <th></th>\n",
       "      <th colspan=\"69\" halign=\"left\">pay_amount</th>\n",
       "    </tr>\n",
       "    <tr>\n",
       "      <th></th>\n",
       "      <th></th>\n",
       "      <th colspan=\"69\" halign=\"left\">mean</th>\n",
       "    </tr>\n",
       "    <tr>\n",
       "      <th></th>\n",
       "      <th>pay_date_datetime</th>\n",
       "      <th>2021-04-01</th>\n",
       "      <th>2021-04-02</th>\n",
       "      <th>2021-04-03</th>\n",
       "      <th>2021-04-04</th>\n",
       "      <th>2021-04-05</th>\n",
       "      <th>2021-04-06</th>\n",
       "      <th>2021-04-07</th>\n",
       "      <th>2021-04-08</th>\n",
       "      <th>2021-04-09</th>\n",
       "      <th>2021-04-10</th>\n",
       "      <th>2021-04-11</th>\n",
       "      <th>2021-04-12</th>\n",
       "      <th>2021-04-13</th>\n",
       "      <th>2021-04-14</th>\n",
       "      <th>2021-04-15</th>\n",
       "      <th>2021-04-16</th>\n",
       "      <th>2021-04-17</th>\n",
       "      <th>2021-04-18</th>\n",
       "      <th>2021-04-19</th>\n",
       "      <th>2021-04-20</th>\n",
       "      <th>2021-04-21</th>\n",
       "      <th>2021-04-22</th>\n",
       "      <th>2021-04-23</th>\n",
       "      <th>2021-04-24</th>\n",
       "      <th>2021-04-25</th>\n",
       "      <th>2021-04-26</th>\n",
       "      <th>2021-04-27</th>\n",
       "      <th>2021-04-28</th>\n",
       "      <th>2021-04-29</th>\n",
       "      <th>2021-04-30</th>\n",
       "      <th>2021-05-01</th>\n",
       "      <th>2021-05-02</th>\n",
       "      <th>2021-05-03</th>\n",
       "      <th>2021-05-04</th>\n",
       "      <th>2021-05-05</th>\n",
       "      <th>2021-05-06</th>\n",
       "      <th>2021-05-07</th>\n",
       "      <th>2021-05-08</th>\n",
       "      <th>2021-05-09</th>\n",
       "      <th>2021-05-10</th>\n",
       "      <th>2021-05-11</th>\n",
       "      <th>2021-05-12</th>\n",
       "      <th>2021-05-13</th>\n",
       "      <th>2021-05-14</th>\n",
       "      <th>2021-05-15</th>\n",
       "      <th>2021-05-16</th>\n",
       "      <th>2021-05-17</th>\n",
       "      <th>2021-05-18</th>\n",
       "      <th>2021-05-19</th>\n",
       "      <th>2021-05-20</th>\n",
       "      <th>2021-05-21</th>\n",
       "      <th>2021-05-22</th>\n",
       "      <th>2021-05-23</th>\n",
       "      <th>2021-05-24</th>\n",
       "      <th>2021-05-25</th>\n",
       "      <th>2021-05-26</th>\n",
       "      <th>2021-05-27</th>\n",
       "      <th>2021-05-28</th>\n",
       "      <th>2021-05-29</th>\n",
       "      <th>2021-05-30</th>\n",
       "      <th>2021-05-31</th>\n",
       "      <th>2021-06-01</th>\n",
       "      <th>2021-06-02</th>\n",
       "      <th>2021-06-03</th>\n",
       "      <th>2021-06-04</th>\n",
       "      <th>2021-06-05</th>\n",
       "      <th>2021-06-06</th>\n",
       "      <th>2021-06-07</th>\n",
       "      <th>2021-06-08</th>\n",
       "    </tr>\n",
       "    <tr>\n",
       "      <th>source</th>\n",
       "      <th>country</th>\n",
       "      <th></th>\n",
       "      <th></th>\n",
       "      <th></th>\n",
       "      <th></th>\n",
       "      <th></th>\n",
       "      <th></th>\n",
       "      <th></th>\n",
       "      <th></th>\n",
       "      <th></th>\n",
       "      <th></th>\n",
       "      <th></th>\n",
       "      <th></th>\n",
       "      <th></th>\n",
       "      <th></th>\n",
       "      <th></th>\n",
       "      <th></th>\n",
       "      <th></th>\n",
       "      <th></th>\n",
       "      <th></th>\n",
       "      <th></th>\n",
       "      <th></th>\n",
       "      <th></th>\n",
       "      <th></th>\n",
       "      <th></th>\n",
       "      <th></th>\n",
       "      <th></th>\n",
       "      <th></th>\n",
       "      <th></th>\n",
       "      <th></th>\n",
       "      <th></th>\n",
       "      <th></th>\n",
       "      <th></th>\n",
       "      <th></th>\n",
       "      <th></th>\n",
       "      <th></th>\n",
       "      <th></th>\n",
       "      <th></th>\n",
       "      <th></th>\n",
       "      <th></th>\n",
       "      <th></th>\n",
       "      <th></th>\n",
       "      <th></th>\n",
       "      <th></th>\n",
       "      <th></th>\n",
       "      <th></th>\n",
       "      <th></th>\n",
       "      <th></th>\n",
       "      <th></th>\n",
       "      <th></th>\n",
       "      <th></th>\n",
       "      <th></th>\n",
       "      <th></th>\n",
       "      <th></th>\n",
       "      <th></th>\n",
       "      <th></th>\n",
       "      <th></th>\n",
       "      <th></th>\n",
       "      <th></th>\n",
       "      <th></th>\n",
       "      <th></th>\n",
       "      <th></th>\n",
       "      <th></th>\n",
       "      <th></th>\n",
       "      <th></th>\n",
       "      <th></th>\n",
       "      <th></th>\n",
       "      <th></th>\n",
       "      <th></th>\n",
       "      <th></th>\n",
       "    </tr>\n",
       "  </thead>\n",
       "  <tbody>\n",
       "    <tr>\n",
       "      <td rowspan=\"5\" valign=\"top\">Facebook Ads</td>\n",
       "      <td>AE</td>\n",
       "      <td>0</td>\n",
       "      <td>0</td>\n",
       "      <td>0</td>\n",
       "      <td>0</td>\n",
       "      <td>0</td>\n",
       "      <td>0</td>\n",
       "      <td>0</td>\n",
       "      <td>0</td>\n",
       "      <td>0</td>\n",
       "      <td>0</td>\n",
       "      <td>0</td>\n",
       "      <td>0</td>\n",
       "      <td>0</td>\n",
       "      <td>0</td>\n",
       "      <td>0</td>\n",
       "      <td>0</td>\n",
       "      <td>0</td>\n",
       "      <td>0</td>\n",
       "      <td>0</td>\n",
       "      <td>0</td>\n",
       "      <td>0</td>\n",
       "      <td>0</td>\n",
       "      <td>0</td>\n",
       "      <td>0</td>\n",
       "      <td>0</td>\n",
       "      <td>0</td>\n",
       "      <td>0</td>\n",
       "      <td>0</td>\n",
       "      <td>0</td>\n",
       "      <td>0</td>\n",
       "      <td>0</td>\n",
       "      <td>0</td>\n",
       "      <td>15</td>\n",
       "      <td>15</td>\n",
       "      <td>0</td>\n",
       "      <td>0</td>\n",
       "      <td>0</td>\n",
       "      <td>0</td>\n",
       "      <td>0</td>\n",
       "      <td>0</td>\n",
       "      <td>0</td>\n",
       "      <td>0</td>\n",
       "      <td>0</td>\n",
       "      <td>0</td>\n",
       "      <td>0</td>\n",
       "      <td>0</td>\n",
       "      <td>0</td>\n",
       "      <td>0</td>\n",
       "      <td>0</td>\n",
       "      <td>0</td>\n",
       "      <td>0</td>\n",
       "      <td>0</td>\n",
       "      <td>0</td>\n",
       "      <td>0</td>\n",
       "      <td>0</td>\n",
       "      <td>0</td>\n",
       "      <td>0</td>\n",
       "      <td>0</td>\n",
       "      <td>0</td>\n",
       "      <td>0</td>\n",
       "      <td>0</td>\n",
       "      <td>0</td>\n",
       "      <td>0</td>\n",
       "      <td>0</td>\n",
       "      <td>0</td>\n",
       "      <td>0</td>\n",
       "      <td>0</td>\n",
       "      <td>0</td>\n",
       "      <td>0</td>\n",
       "    </tr>\n",
       "    <tr>\n",
       "      <td>AG</td>\n",
       "      <td>0</td>\n",
       "      <td>0</td>\n",
       "      <td>0</td>\n",
       "      <td>0</td>\n",
       "      <td>0</td>\n",
       "      <td>0</td>\n",
       "      <td>0</td>\n",
       "      <td>0</td>\n",
       "      <td>0</td>\n",
       "      <td>0</td>\n",
       "      <td>0</td>\n",
       "      <td>0</td>\n",
       "      <td>0</td>\n",
       "      <td>0</td>\n",
       "      <td>0</td>\n",
       "      <td>0</td>\n",
       "      <td>0</td>\n",
       "      <td>0</td>\n",
       "      <td>0</td>\n",
       "      <td>0</td>\n",
       "      <td>0</td>\n",
       "      <td>0</td>\n",
       "      <td>0</td>\n",
       "      <td>0</td>\n",
       "      <td>0</td>\n",
       "      <td>0</td>\n",
       "      <td>0</td>\n",
       "      <td>0</td>\n",
       "      <td>0</td>\n",
       "      <td>0</td>\n",
       "      <td>0</td>\n",
       "      <td>0</td>\n",
       "      <td>0</td>\n",
       "      <td>0</td>\n",
       "      <td>0</td>\n",
       "      <td>0</td>\n",
       "      <td>0</td>\n",
       "      <td>0</td>\n",
       "      <td>0</td>\n",
       "      <td>0</td>\n",
       "      <td>0</td>\n",
       "      <td>2</td>\n",
       "      <td>0</td>\n",
       "      <td>0</td>\n",
       "      <td>0</td>\n",
       "      <td>0</td>\n",
       "      <td>0</td>\n",
       "      <td>0</td>\n",
       "      <td>0</td>\n",
       "      <td>0</td>\n",
       "      <td>0</td>\n",
       "      <td>0</td>\n",
       "      <td>0</td>\n",
       "      <td>0</td>\n",
       "      <td>0</td>\n",
       "      <td>0</td>\n",
       "      <td>0</td>\n",
       "      <td>0</td>\n",
       "      <td>0</td>\n",
       "      <td>0</td>\n",
       "      <td>0</td>\n",
       "      <td>0</td>\n",
       "      <td>0</td>\n",
       "      <td>0</td>\n",
       "      <td>0</td>\n",
       "      <td>0</td>\n",
       "      <td>0</td>\n",
       "      <td>0</td>\n",
       "      <td>0</td>\n",
       "    </tr>\n",
       "    <tr>\n",
       "      <td>AT</td>\n",
       "      <td>0</td>\n",
       "      <td>0</td>\n",
       "      <td>0</td>\n",
       "      <td>0</td>\n",
       "      <td>0</td>\n",
       "      <td>0</td>\n",
       "      <td>0</td>\n",
       "      <td>0</td>\n",
       "      <td>2</td>\n",
       "      <td>0</td>\n",
       "      <td>0</td>\n",
       "      <td>0</td>\n",
       "      <td>0</td>\n",
       "      <td>0</td>\n",
       "      <td>2</td>\n",
       "      <td>0</td>\n",
       "      <td>0</td>\n",
       "      <td>0</td>\n",
       "      <td>0</td>\n",
       "      <td>0</td>\n",
       "      <td>15</td>\n",
       "      <td>0</td>\n",
       "      <td>0</td>\n",
       "      <td>0</td>\n",
       "      <td>0</td>\n",
       "      <td>0</td>\n",
       "      <td>0</td>\n",
       "      <td>0</td>\n",
       "      <td>0</td>\n",
       "      <td>2</td>\n",
       "      <td>0</td>\n",
       "      <td>0</td>\n",
       "      <td>8</td>\n",
       "      <td>2</td>\n",
       "      <td>2</td>\n",
       "      <td>2</td>\n",
       "      <td>0</td>\n",
       "      <td>0</td>\n",
       "      <td>3</td>\n",
       "      <td>2</td>\n",
       "      <td>0</td>\n",
       "      <td>0</td>\n",
       "      <td>2</td>\n",
       "      <td>2</td>\n",
       "      <td>0</td>\n",
       "      <td>5</td>\n",
       "      <td>0</td>\n",
       "      <td>0</td>\n",
       "      <td>0</td>\n",
       "      <td>0</td>\n",
       "      <td>3</td>\n",
       "      <td>0</td>\n",
       "      <td>0</td>\n",
       "      <td>0</td>\n",
       "      <td>0</td>\n",
       "      <td>0</td>\n",
       "      <td>5</td>\n",
       "      <td>5</td>\n",
       "      <td>0</td>\n",
       "      <td>0</td>\n",
       "      <td>5</td>\n",
       "      <td>2</td>\n",
       "      <td>2</td>\n",
       "      <td>2</td>\n",
       "      <td>5</td>\n",
       "      <td>2</td>\n",
       "      <td>0</td>\n",
       "      <td>2</td>\n",
       "      <td>0</td>\n",
       "    </tr>\n",
       "    <tr>\n",
       "      <td>AU</td>\n",
       "      <td>0</td>\n",
       "      <td>0</td>\n",
       "      <td>2</td>\n",
       "      <td>9</td>\n",
       "      <td>23</td>\n",
       "      <td>23</td>\n",
       "      <td>15</td>\n",
       "      <td>13</td>\n",
       "      <td>12</td>\n",
       "      <td>49</td>\n",
       "      <td>0</td>\n",
       "      <td>0</td>\n",
       "      <td>2</td>\n",
       "      <td>2</td>\n",
       "      <td>0</td>\n",
       "      <td>36</td>\n",
       "      <td>0</td>\n",
       "      <td>2</td>\n",
       "      <td>0</td>\n",
       "      <td>0</td>\n",
       "      <td>0</td>\n",
       "      <td>0</td>\n",
       "      <td>24</td>\n",
       "      <td>4</td>\n",
       "      <td>0</td>\n",
       "      <td>2</td>\n",
       "      <td>20</td>\n",
       "      <td>0</td>\n",
       "      <td>0</td>\n",
       "      <td>0</td>\n",
       "      <td>18</td>\n",
       "      <td>12</td>\n",
       "      <td>24</td>\n",
       "      <td>0</td>\n",
       "      <td>0</td>\n",
       "      <td>0</td>\n",
       "      <td>0</td>\n",
       "      <td>0</td>\n",
       "      <td>25</td>\n",
       "      <td>28</td>\n",
       "      <td>20</td>\n",
       "      <td>45</td>\n",
       "      <td>8</td>\n",
       "      <td>17</td>\n",
       "      <td>19</td>\n",
       "      <td>21</td>\n",
       "      <td>0</td>\n",
       "      <td>9</td>\n",
       "      <td>9</td>\n",
       "      <td>11</td>\n",
       "      <td>13</td>\n",
       "      <td>14</td>\n",
       "      <td>8</td>\n",
       "      <td>12</td>\n",
       "      <td>23</td>\n",
       "      <td>20</td>\n",
       "      <td>61</td>\n",
       "      <td>27</td>\n",
       "      <td>27</td>\n",
       "      <td>8</td>\n",
       "      <td>59</td>\n",
       "      <td>0</td>\n",
       "      <td>40</td>\n",
       "      <td>37</td>\n",
       "      <td>31</td>\n",
       "      <td>34</td>\n",
       "      <td>0</td>\n",
       "      <td>18</td>\n",
       "      <td>0</td>\n",
       "    </tr>\n",
       "    <tr>\n",
       "      <td>BE</td>\n",
       "      <td>0</td>\n",
       "      <td>0</td>\n",
       "      <td>0</td>\n",
       "      <td>0</td>\n",
       "      <td>0</td>\n",
       "      <td>0</td>\n",
       "      <td>0</td>\n",
       "      <td>2</td>\n",
       "      <td>2</td>\n",
       "      <td>0</td>\n",
       "      <td>2</td>\n",
       "      <td>0</td>\n",
       "      <td>0</td>\n",
       "      <td>0</td>\n",
       "      <td>0</td>\n",
       "      <td>2</td>\n",
       "      <td>0</td>\n",
       "      <td>4</td>\n",
       "      <td>23</td>\n",
       "      <td>34</td>\n",
       "      <td>0</td>\n",
       "      <td>0</td>\n",
       "      <td>0</td>\n",
       "      <td>8</td>\n",
       "      <td>0</td>\n",
       "      <td>0</td>\n",
       "      <td>0</td>\n",
       "      <td>0</td>\n",
       "      <td>0</td>\n",
       "      <td>0</td>\n",
       "      <td>3</td>\n",
       "      <td>28</td>\n",
       "      <td>0</td>\n",
       "      <td>0</td>\n",
       "      <td>19</td>\n",
       "      <td>19</td>\n",
       "      <td>31</td>\n",
       "      <td>0</td>\n",
       "      <td>0</td>\n",
       "      <td>0</td>\n",
       "      <td>0</td>\n",
       "      <td>0</td>\n",
       "      <td>0</td>\n",
       "      <td>0</td>\n",
       "      <td>0</td>\n",
       "      <td>0</td>\n",
       "      <td>0</td>\n",
       "      <td>0</td>\n",
       "      <td>0</td>\n",
       "      <td>0</td>\n",
       "      <td>0</td>\n",
       "      <td>0</td>\n",
       "      <td>0</td>\n",
       "      <td>0</td>\n",
       "      <td>0</td>\n",
       "      <td>0</td>\n",
       "      <td>0</td>\n",
       "      <td>0</td>\n",
       "      <td>0</td>\n",
       "      <td>0</td>\n",
       "      <td>0</td>\n",
       "      <td>38</td>\n",
       "      <td>2</td>\n",
       "      <td>2</td>\n",
       "      <td>0</td>\n",
       "      <td>0</td>\n",
       "      <td>0</td>\n",
       "      <td>0</td>\n",
       "      <td>0</td>\n",
       "    </tr>\n",
       "    <tr>\n",
       "      <td>...</td>\n",
       "      <td>...</td>\n",
       "      <td>...</td>\n",
       "      <td>...</td>\n",
       "      <td>...</td>\n",
       "      <td>...</td>\n",
       "      <td>...</td>\n",
       "      <td>...</td>\n",
       "      <td>...</td>\n",
       "      <td>...</td>\n",
       "      <td>...</td>\n",
       "      <td>...</td>\n",
       "      <td>...</td>\n",
       "      <td>...</td>\n",
       "      <td>...</td>\n",
       "      <td>...</td>\n",
       "      <td>...</td>\n",
       "      <td>...</td>\n",
       "      <td>...</td>\n",
       "      <td>...</td>\n",
       "      <td>...</td>\n",
       "      <td>...</td>\n",
       "      <td>...</td>\n",
       "      <td>...</td>\n",
       "      <td>...</td>\n",
       "      <td>...</td>\n",
       "      <td>...</td>\n",
       "      <td>...</td>\n",
       "      <td>...</td>\n",
       "      <td>...</td>\n",
       "      <td>...</td>\n",
       "      <td>...</td>\n",
       "      <td>...</td>\n",
       "      <td>...</td>\n",
       "      <td>...</td>\n",
       "      <td>...</td>\n",
       "      <td>...</td>\n",
       "      <td>...</td>\n",
       "      <td>...</td>\n",
       "      <td>...</td>\n",
       "      <td>...</td>\n",
       "      <td>...</td>\n",
       "      <td>...</td>\n",
       "      <td>...</td>\n",
       "      <td>...</td>\n",
       "      <td>...</td>\n",
       "      <td>...</td>\n",
       "      <td>...</td>\n",
       "      <td>...</td>\n",
       "      <td>...</td>\n",
       "      <td>...</td>\n",
       "      <td>...</td>\n",
       "      <td>...</td>\n",
       "      <td>...</td>\n",
       "      <td>...</td>\n",
       "      <td>...</td>\n",
       "      <td>...</td>\n",
       "      <td>...</td>\n",
       "      <td>...</td>\n",
       "      <td>...</td>\n",
       "      <td>...</td>\n",
       "      <td>...</td>\n",
       "      <td>...</td>\n",
       "      <td>...</td>\n",
       "      <td>...</td>\n",
       "      <td>...</td>\n",
       "      <td>...</td>\n",
       "      <td>...</td>\n",
       "      <td>...</td>\n",
       "      <td>...</td>\n",
       "      <td>...</td>\n",
       "    </tr>\n",
       "    <tr>\n",
       "      <td rowspan=\"3\" valign=\"top\">googleadwords_int</td>\n",
       "      <td>QA</td>\n",
       "      <td>0</td>\n",
       "      <td>0</td>\n",
       "      <td>0</td>\n",
       "      <td>0</td>\n",
       "      <td>0</td>\n",
       "      <td>0</td>\n",
       "      <td>0</td>\n",
       "      <td>0</td>\n",
       "      <td>0</td>\n",
       "      <td>0</td>\n",
       "      <td>0</td>\n",
       "      <td>0</td>\n",
       "      <td>0</td>\n",
       "      <td>0</td>\n",
       "      <td>0</td>\n",
       "      <td>0</td>\n",
       "      <td>0</td>\n",
       "      <td>0</td>\n",
       "      <td>0</td>\n",
       "      <td>0</td>\n",
       "      <td>0</td>\n",
       "      <td>0</td>\n",
       "      <td>0</td>\n",
       "      <td>0</td>\n",
       "      <td>0</td>\n",
       "      <td>0</td>\n",
       "      <td>0</td>\n",
       "      <td>0</td>\n",
       "      <td>0</td>\n",
       "      <td>0</td>\n",
       "      <td>0</td>\n",
       "      <td>0</td>\n",
       "      <td>0</td>\n",
       "      <td>0</td>\n",
       "      <td>0</td>\n",
       "      <td>0</td>\n",
       "      <td>0</td>\n",
       "      <td>0</td>\n",
       "      <td>0</td>\n",
       "      <td>0</td>\n",
       "      <td>0</td>\n",
       "      <td>0</td>\n",
       "      <td>0</td>\n",
       "      <td>0</td>\n",
       "      <td>0</td>\n",
       "      <td>0</td>\n",
       "      <td>0</td>\n",
       "      <td>0</td>\n",
       "      <td>0</td>\n",
       "      <td>0</td>\n",
       "      <td>0</td>\n",
       "      <td>0</td>\n",
       "      <td>0</td>\n",
       "      <td>0</td>\n",
       "      <td>0</td>\n",
       "      <td>0</td>\n",
       "      <td>0</td>\n",
       "      <td>0</td>\n",
       "      <td>0</td>\n",
       "      <td>2</td>\n",
       "      <td>0</td>\n",
       "      <td>0</td>\n",
       "      <td>0</td>\n",
       "      <td>0</td>\n",
       "      <td>3</td>\n",
       "      <td>0</td>\n",
       "      <td>0</td>\n",
       "      <td>0</td>\n",
       "      <td>0</td>\n",
       "    </tr>\n",
       "    <tr>\n",
       "      <td>RS</td>\n",
       "      <td>0</td>\n",
       "      <td>0</td>\n",
       "      <td>0</td>\n",
       "      <td>0</td>\n",
       "      <td>0</td>\n",
       "      <td>0</td>\n",
       "      <td>0</td>\n",
       "      <td>0</td>\n",
       "      <td>0</td>\n",
       "      <td>0</td>\n",
       "      <td>0</td>\n",
       "      <td>0</td>\n",
       "      <td>0</td>\n",
       "      <td>0</td>\n",
       "      <td>0</td>\n",
       "      <td>0</td>\n",
       "      <td>0</td>\n",
       "      <td>0</td>\n",
       "      <td>0</td>\n",
       "      <td>0</td>\n",
       "      <td>0</td>\n",
       "      <td>0</td>\n",
       "      <td>0</td>\n",
       "      <td>0</td>\n",
       "      <td>0</td>\n",
       "      <td>0</td>\n",
       "      <td>0</td>\n",
       "      <td>0</td>\n",
       "      <td>0</td>\n",
       "      <td>0</td>\n",
       "      <td>0</td>\n",
       "      <td>0</td>\n",
       "      <td>4</td>\n",
       "      <td>0</td>\n",
       "      <td>0</td>\n",
       "      <td>0</td>\n",
       "      <td>0</td>\n",
       "      <td>0</td>\n",
       "      <td>0</td>\n",
       "      <td>0</td>\n",
       "      <td>0</td>\n",
       "      <td>0</td>\n",
       "      <td>0</td>\n",
       "      <td>0</td>\n",
       "      <td>0</td>\n",
       "      <td>0</td>\n",
       "      <td>0</td>\n",
       "      <td>4</td>\n",
       "      <td>0</td>\n",
       "      <td>0</td>\n",
       "      <td>0</td>\n",
       "      <td>0</td>\n",
       "      <td>0</td>\n",
       "      <td>0</td>\n",
       "      <td>0</td>\n",
       "      <td>0</td>\n",
       "      <td>0</td>\n",
       "      <td>0</td>\n",
       "      <td>0</td>\n",
       "      <td>0</td>\n",
       "      <td>0</td>\n",
       "      <td>0</td>\n",
       "      <td>0</td>\n",
       "      <td>0</td>\n",
       "      <td>0</td>\n",
       "      <td>0</td>\n",
       "      <td>0</td>\n",
       "      <td>0</td>\n",
       "      <td>0</td>\n",
       "    </tr>\n",
       "    <tr>\n",
       "      <td>ZM</td>\n",
       "      <td>0</td>\n",
       "      <td>0</td>\n",
       "      <td>0</td>\n",
       "      <td>0</td>\n",
       "      <td>0</td>\n",
       "      <td>0</td>\n",
       "      <td>0</td>\n",
       "      <td>0</td>\n",
       "      <td>0</td>\n",
       "      <td>0</td>\n",
       "      <td>0</td>\n",
       "      <td>0</td>\n",
       "      <td>0</td>\n",
       "      <td>0</td>\n",
       "      <td>0</td>\n",
       "      <td>0</td>\n",
       "      <td>0</td>\n",
       "      <td>0</td>\n",
       "      <td>0</td>\n",
       "      <td>0</td>\n",
       "      <td>0</td>\n",
       "      <td>0</td>\n",
       "      <td>0</td>\n",
       "      <td>0</td>\n",
       "      <td>0</td>\n",
       "      <td>0</td>\n",
       "      <td>0</td>\n",
       "      <td>0</td>\n",
       "      <td>0</td>\n",
       "      <td>0</td>\n",
       "      <td>0</td>\n",
       "      <td>0</td>\n",
       "      <td>0</td>\n",
       "      <td>0</td>\n",
       "      <td>0</td>\n",
       "      <td>0</td>\n",
       "      <td>0</td>\n",
       "      <td>0</td>\n",
       "      <td>0</td>\n",
       "      <td>0</td>\n",
       "      <td>0</td>\n",
       "      <td>0</td>\n",
       "      <td>0</td>\n",
       "      <td>0</td>\n",
       "      <td>0</td>\n",
       "      <td>0</td>\n",
       "      <td>18</td>\n",
       "      <td>11</td>\n",
       "      <td>0</td>\n",
       "      <td>0</td>\n",
       "      <td>0</td>\n",
       "      <td>0</td>\n",
       "      <td>0</td>\n",
       "      <td>0</td>\n",
       "      <td>0</td>\n",
       "      <td>0</td>\n",
       "      <td>0</td>\n",
       "      <td>0</td>\n",
       "      <td>0</td>\n",
       "      <td>0</td>\n",
       "      <td>0</td>\n",
       "      <td>0</td>\n",
       "      <td>0</td>\n",
       "      <td>0</td>\n",
       "      <td>0</td>\n",
       "      <td>0</td>\n",
       "      <td>0</td>\n",
       "      <td>0</td>\n",
       "      <td>0</td>\n",
       "    </tr>\n",
       "    <tr>\n",
       "      <td rowspan=\"2\" valign=\"top\">unityads_int</td>\n",
       "      <td>DE</td>\n",
       "      <td>0</td>\n",
       "      <td>0</td>\n",
       "      <td>0</td>\n",
       "      <td>0</td>\n",
       "      <td>0</td>\n",
       "      <td>0</td>\n",
       "      <td>0</td>\n",
       "      <td>0</td>\n",
       "      <td>0</td>\n",
       "      <td>0</td>\n",
       "      <td>0</td>\n",
       "      <td>0</td>\n",
       "      <td>0</td>\n",
       "      <td>0</td>\n",
       "      <td>0</td>\n",
       "      <td>0</td>\n",
       "      <td>0</td>\n",
       "      <td>1</td>\n",
       "      <td>0</td>\n",
       "      <td>0</td>\n",
       "      <td>0</td>\n",
       "      <td>2</td>\n",
       "      <td>0</td>\n",
       "      <td>0</td>\n",
       "      <td>0</td>\n",
       "      <td>2</td>\n",
       "      <td>0</td>\n",
       "      <td>0</td>\n",
       "      <td>0</td>\n",
       "      <td>0</td>\n",
       "      <td>0</td>\n",
       "      <td>0</td>\n",
       "      <td>0</td>\n",
       "      <td>0</td>\n",
       "      <td>0</td>\n",
       "      <td>0</td>\n",
       "      <td>0</td>\n",
       "      <td>0</td>\n",
       "      <td>0</td>\n",
       "      <td>0</td>\n",
       "      <td>31</td>\n",
       "      <td>11</td>\n",
       "      <td>0</td>\n",
       "      <td>0</td>\n",
       "      <td>11</td>\n",
       "      <td>0</td>\n",
       "      <td>0</td>\n",
       "      <td>56</td>\n",
       "      <td>23</td>\n",
       "      <td>0</td>\n",
       "      <td>0</td>\n",
       "      <td>0</td>\n",
       "      <td>23</td>\n",
       "      <td>11</td>\n",
       "      <td>23</td>\n",
       "      <td>35</td>\n",
       "      <td>11</td>\n",
       "      <td>11</td>\n",
       "      <td>0</td>\n",
       "      <td>11</td>\n",
       "      <td>0</td>\n",
       "      <td>125</td>\n",
       "      <td>0</td>\n",
       "      <td>0</td>\n",
       "      <td>0</td>\n",
       "      <td>23</td>\n",
       "      <td>47</td>\n",
       "      <td>47</td>\n",
       "      <td>7</td>\n",
       "    </tr>\n",
       "    <tr>\n",
       "      <td>US</td>\n",
       "      <td>0</td>\n",
       "      <td>0</td>\n",
       "      <td>6</td>\n",
       "      <td>14</td>\n",
       "      <td>5</td>\n",
       "      <td>4</td>\n",
       "      <td>4</td>\n",
       "      <td>36</td>\n",
       "      <td>0</td>\n",
       "      <td>14</td>\n",
       "      <td>116</td>\n",
       "      <td>9</td>\n",
       "      <td>5</td>\n",
       "      <td>13</td>\n",
       "      <td>8</td>\n",
       "      <td>14</td>\n",
       "      <td>1</td>\n",
       "      <td>11</td>\n",
       "      <td>23</td>\n",
       "      <td>6</td>\n",
       "      <td>1</td>\n",
       "      <td>13</td>\n",
       "      <td>9</td>\n",
       "      <td>15</td>\n",
       "      <td>29</td>\n",
       "      <td>17</td>\n",
       "      <td>9</td>\n",
       "      <td>12</td>\n",
       "      <td>10</td>\n",
       "      <td>10</td>\n",
       "      <td>6</td>\n",
       "      <td>11</td>\n",
       "      <td>19</td>\n",
       "      <td>23</td>\n",
       "      <td>26</td>\n",
       "      <td>48</td>\n",
       "      <td>15</td>\n",
       "      <td>13</td>\n",
       "      <td>43</td>\n",
       "      <td>28</td>\n",
       "      <td>27</td>\n",
       "      <td>17</td>\n",
       "      <td>35</td>\n",
       "      <td>36</td>\n",
       "      <td>25</td>\n",
       "      <td>21</td>\n",
       "      <td>44</td>\n",
       "      <td>28</td>\n",
       "      <td>89</td>\n",
       "      <td>20</td>\n",
       "      <td>6</td>\n",
       "      <td>23</td>\n",
       "      <td>21</td>\n",
       "      <td>16</td>\n",
       "      <td>41</td>\n",
       "      <td>11</td>\n",
       "      <td>13</td>\n",
       "      <td>18</td>\n",
       "      <td>12</td>\n",
       "      <td>13</td>\n",
       "      <td>11</td>\n",
       "      <td>28</td>\n",
       "      <td>14</td>\n",
       "      <td>12</td>\n",
       "      <td>6</td>\n",
       "      <td>23</td>\n",
       "      <td>17</td>\n",
       "      <td>15</td>\n",
       "      <td>0</td>\n",
       "    </tr>\n",
       "  </tbody>\n",
       "</table>\n",
       "<p>158 rows × 69 columns</p>\n",
       "</div>"
      ],
      "text/plain": [
       "                          pay_amount                                   \\\n",
       "                                mean                                    \n",
       "pay_date_datetime         2021-04-01 2021-04-02 2021-04-03 2021-04-04   \n",
       "source            country                                               \n",
       "Facebook Ads      AE               0          0          0          0   \n",
       "                  AG               0          0          0          0   \n",
       "                  AT               0          0          0          0   \n",
       "                  AU               0          0          2          9   \n",
       "                  BE               0          0          0          0   \n",
       "...                              ...        ...        ...        ...   \n",
       "googleadwords_int QA               0          0          0          0   \n",
       "                  RS               0          0          0          0   \n",
       "                  ZM               0          0          0          0   \n",
       "unityads_int      DE               0          0          0          0   \n",
       "                  US               0          0          6         14   \n",
       "\n",
       "                                                                       \\\n",
       "                                                                        \n",
       "pay_date_datetime         2021-04-05 2021-04-06 2021-04-07 2021-04-08   \n",
       "source            country                                               \n",
       "Facebook Ads      AE               0          0          0          0   \n",
       "                  AG               0          0          0          0   \n",
       "                  AT               0          0          0          0   \n",
       "                  AU              23         23         15         13   \n",
       "                  BE               0          0          0          2   \n",
       "...                              ...        ...        ...        ...   \n",
       "googleadwords_int QA               0          0          0          0   \n",
       "                  RS               0          0          0          0   \n",
       "                  ZM               0          0          0          0   \n",
       "unityads_int      DE               0          0          0          0   \n",
       "                  US               5          4          4         36   \n",
       "\n",
       "                                                                       \\\n",
       "                                                                        \n",
       "pay_date_datetime         2021-04-09 2021-04-10 2021-04-11 2021-04-12   \n",
       "source            country                                               \n",
       "Facebook Ads      AE               0          0          0          0   \n",
       "                  AG               0          0          0          0   \n",
       "                  AT               2          0          0          0   \n",
       "                  AU              12         49          0          0   \n",
       "                  BE               2          0          2          0   \n",
       "...                              ...        ...        ...        ...   \n",
       "googleadwords_int QA               0          0          0          0   \n",
       "                  RS               0          0          0          0   \n",
       "                  ZM               0          0          0          0   \n",
       "unityads_int      DE               0          0          0          0   \n",
       "                  US               0         14        116          9   \n",
       "\n",
       "                                                                       \\\n",
       "                                                                        \n",
       "pay_date_datetime         2021-04-13 2021-04-14 2021-04-15 2021-04-16   \n",
       "source            country                                               \n",
       "Facebook Ads      AE               0          0          0          0   \n",
       "                  AG               0          0          0          0   \n",
       "                  AT               0          0          2          0   \n",
       "                  AU               2          2          0         36   \n",
       "                  BE               0          0          0          2   \n",
       "...                              ...        ...        ...        ...   \n",
       "googleadwords_int QA               0          0          0          0   \n",
       "                  RS               0          0          0          0   \n",
       "                  ZM               0          0          0          0   \n",
       "unityads_int      DE               0          0          0          0   \n",
       "                  US               5         13          8         14   \n",
       "\n",
       "                                                                       \\\n",
       "                                                                        \n",
       "pay_date_datetime         2021-04-17 2021-04-18 2021-04-19 2021-04-20   \n",
       "source            country                                               \n",
       "Facebook Ads      AE               0          0          0          0   \n",
       "                  AG               0          0          0          0   \n",
       "                  AT               0          0          0          0   \n",
       "                  AU               0          2          0          0   \n",
       "                  BE               0          4         23         34   \n",
       "...                              ...        ...        ...        ...   \n",
       "googleadwords_int QA               0          0          0          0   \n",
       "                  RS               0          0          0          0   \n",
       "                  ZM               0          0          0          0   \n",
       "unityads_int      DE               0          1          0          0   \n",
       "                  US               1         11         23          6   \n",
       "\n",
       "                                                                       \\\n",
       "                                                                        \n",
       "pay_date_datetime         2021-04-21 2021-04-22 2021-04-23 2021-04-24   \n",
       "source            country                                               \n",
       "Facebook Ads      AE               0          0          0          0   \n",
       "                  AG               0          0          0          0   \n",
       "                  AT              15          0          0          0   \n",
       "                  AU               0          0         24          4   \n",
       "                  BE               0          0          0          8   \n",
       "...                              ...        ...        ...        ...   \n",
       "googleadwords_int QA               0          0          0          0   \n",
       "                  RS               0          0          0          0   \n",
       "                  ZM               0          0          0          0   \n",
       "unityads_int      DE               0          2          0          0   \n",
       "                  US               1         13          9         15   \n",
       "\n",
       "                                                                       \\\n",
       "                                                                        \n",
       "pay_date_datetime         2021-04-25 2021-04-26 2021-04-27 2021-04-28   \n",
       "source            country                                               \n",
       "Facebook Ads      AE               0          0          0          0   \n",
       "                  AG               0          0          0          0   \n",
       "                  AT               0          0          0          0   \n",
       "                  AU               0          2         20          0   \n",
       "                  BE               0          0          0          0   \n",
       "...                              ...        ...        ...        ...   \n",
       "googleadwords_int QA               0          0          0          0   \n",
       "                  RS               0          0          0          0   \n",
       "                  ZM               0          0          0          0   \n",
       "unityads_int      DE               0          2          0          0   \n",
       "                  US              29         17          9         12   \n",
       "\n",
       "                                                                       \\\n",
       "                                                                        \n",
       "pay_date_datetime         2021-04-29 2021-04-30 2021-05-01 2021-05-02   \n",
       "source            country                                               \n",
       "Facebook Ads      AE               0          0          0          0   \n",
       "                  AG               0          0          0          0   \n",
       "                  AT               0          2          0          0   \n",
       "                  AU               0          0         18         12   \n",
       "                  BE               0          0          3         28   \n",
       "...                              ...        ...        ...        ...   \n",
       "googleadwords_int QA               0          0          0          0   \n",
       "                  RS               0          0          0          0   \n",
       "                  ZM               0          0          0          0   \n",
       "unityads_int      DE               0          0          0          0   \n",
       "                  US              10         10          6         11   \n",
       "\n",
       "                                                                       \\\n",
       "                                                                        \n",
       "pay_date_datetime         2021-05-03 2021-05-04 2021-05-05 2021-05-06   \n",
       "source            country                                               \n",
       "Facebook Ads      AE              15         15          0          0   \n",
       "                  AG               0          0          0          0   \n",
       "                  AT               8          2          2          2   \n",
       "                  AU              24          0          0          0   \n",
       "                  BE               0          0         19         19   \n",
       "...                              ...        ...        ...        ...   \n",
       "googleadwords_int QA               0          0          0          0   \n",
       "                  RS               4          0          0          0   \n",
       "                  ZM               0          0          0          0   \n",
       "unityads_int      DE               0          0          0          0   \n",
       "                  US              19         23         26         48   \n",
       "\n",
       "                                                                       \\\n",
       "                                                                        \n",
       "pay_date_datetime         2021-05-07 2021-05-08 2021-05-09 2021-05-10   \n",
       "source            country                                               \n",
       "Facebook Ads      AE               0          0          0          0   \n",
       "                  AG               0          0          0          0   \n",
       "                  AT               0          0          3          2   \n",
       "                  AU               0          0         25         28   \n",
       "                  BE              31          0          0          0   \n",
       "...                              ...        ...        ...        ...   \n",
       "googleadwords_int QA               0          0          0          0   \n",
       "                  RS               0          0          0          0   \n",
       "                  ZM               0          0          0          0   \n",
       "unityads_int      DE               0          0          0          0   \n",
       "                  US              15         13         43         28   \n",
       "\n",
       "                                                                       \\\n",
       "                                                                        \n",
       "pay_date_datetime         2021-05-11 2021-05-12 2021-05-13 2021-05-14   \n",
       "source            country                                               \n",
       "Facebook Ads      AE               0          0          0          0   \n",
       "                  AG               0          2          0          0   \n",
       "                  AT               0          0          2          2   \n",
       "                  AU              20         45          8         17   \n",
       "                  BE               0          0          0          0   \n",
       "...                              ...        ...        ...        ...   \n",
       "googleadwords_int QA               0          0          0          0   \n",
       "                  RS               0          0          0          0   \n",
       "                  ZM               0          0          0          0   \n",
       "unityads_int      DE              31         11          0          0   \n",
       "                  US              27         17         35         36   \n",
       "\n",
       "                                                                       \\\n",
       "                                                                        \n",
       "pay_date_datetime         2021-05-15 2021-05-16 2021-05-17 2021-05-18   \n",
       "source            country                                               \n",
       "Facebook Ads      AE               0          0          0          0   \n",
       "                  AG               0          0          0          0   \n",
       "                  AT               0          5          0          0   \n",
       "                  AU              19         21          0          9   \n",
       "                  BE               0          0          0          0   \n",
       "...                              ...        ...        ...        ...   \n",
       "googleadwords_int QA               0          0          0          0   \n",
       "                  RS               0          0          0          4   \n",
       "                  ZM               0          0         18         11   \n",
       "unityads_int      DE              11          0          0         56   \n",
       "                  US              25         21         44         28   \n",
       "\n",
       "                                                                       \\\n",
       "                                                                        \n",
       "pay_date_datetime         2021-05-19 2021-05-20 2021-05-21 2021-05-22   \n",
       "source            country                                               \n",
       "Facebook Ads      AE               0          0          0          0   \n",
       "                  AG               0          0          0          0   \n",
       "                  AT               0          0          3          0   \n",
       "                  AU               9         11         13         14   \n",
       "                  BE               0          0          0          0   \n",
       "...                              ...        ...        ...        ...   \n",
       "googleadwords_int QA               0          0          0          0   \n",
       "                  RS               0          0          0          0   \n",
       "                  ZM               0          0          0          0   \n",
       "unityads_int      DE              23          0          0          0   \n",
       "                  US              89         20          6         23   \n",
       "\n",
       "                                                                       \\\n",
       "                                                                        \n",
       "pay_date_datetime         2021-05-23 2021-05-24 2021-05-25 2021-05-26   \n",
       "source            country                                               \n",
       "Facebook Ads      AE               0          0          0          0   \n",
       "                  AG               0          0          0          0   \n",
       "                  AT               0          0          0          0   \n",
       "                  AU               8         12         23         20   \n",
       "                  BE               0          0          0          0   \n",
       "...                              ...        ...        ...        ...   \n",
       "googleadwords_int QA               0          0          0          0   \n",
       "                  RS               0          0          0          0   \n",
       "                  ZM               0          0          0          0   \n",
       "unityads_int      DE              23         11         23         35   \n",
       "                  US              21         16         41         11   \n",
       "\n",
       "                                                                       \\\n",
       "                                                                        \n",
       "pay_date_datetime         2021-05-27 2021-05-28 2021-05-29 2021-05-30   \n",
       "source            country                                               \n",
       "Facebook Ads      AE               0          0          0          0   \n",
       "                  AG               0          0          0          0   \n",
       "                  AT               5          5          0          0   \n",
       "                  AU              61         27         27          8   \n",
       "                  BE               0          0          0          0   \n",
       "...                              ...        ...        ...        ...   \n",
       "googleadwords_int QA               0          0          0          2   \n",
       "                  RS               0          0          0          0   \n",
       "                  ZM               0          0          0          0   \n",
       "unityads_int      DE              11         11          0         11   \n",
       "                  US              13         18         12         13   \n",
       "\n",
       "                                                                       \\\n",
       "                                                                        \n",
       "pay_date_datetime         2021-05-31 2021-06-01 2021-06-02 2021-06-03   \n",
       "source            country                                               \n",
       "Facebook Ads      AE               0          0          0          0   \n",
       "                  AG               0          0          0          0   \n",
       "                  AT               5          2          2          2   \n",
       "                  AU              59          0         40         37   \n",
       "                  BE               0         38          2          2   \n",
       "...                              ...        ...        ...        ...   \n",
       "googleadwords_int QA               0          0          0          0   \n",
       "                  RS               0          0          0          0   \n",
       "                  ZM               0          0          0          0   \n",
       "unityads_int      DE               0        125          0          0   \n",
       "                  US              11         28         14         12   \n",
       "\n",
       "                                                                       \\\n",
       "                                                                        \n",
       "pay_date_datetime         2021-06-04 2021-06-05 2021-06-06 2021-06-07   \n",
       "source            country                                               \n",
       "Facebook Ads      AE               0          0          0          0   \n",
       "                  AG               0          0          0          0   \n",
       "                  AT               5          2          0          2   \n",
       "                  AU              31         34          0         18   \n",
       "                  BE               0          0          0          0   \n",
       "...                              ...        ...        ...        ...   \n",
       "googleadwords_int QA               3          0          0          0   \n",
       "                  RS               0          0          0          0   \n",
       "                  ZM               0          0          0          0   \n",
       "unityads_int      DE               0         23         47         47   \n",
       "                  US               6         23         17         15   \n",
       "\n",
       "                                      \n",
       "                                      \n",
       "pay_date_datetime         2021-06-08  \n",
       "source            country             \n",
       "Facebook Ads      AE               0  \n",
       "                  AG               0  \n",
       "                  AT               0  \n",
       "                  AU               0  \n",
       "                  BE               0  \n",
       "...                              ...  \n",
       "googleadwords_int QA               0  \n",
       "                  RS               0  \n",
       "                  ZM               0  \n",
       "unityads_int      DE               7  \n",
       "                  US               0  \n",
       "\n",
       "[158 rows x 69 columns]"
      ]
     },
     "execution_count": 30,
     "metadata": {},
     "output_type": "execute_result"
    }
   ],
   "source": [
    "# LTV в среднем за анализируемый период (оценка по источник/ страна)\n",
    "ltv_source = pd.pivot_table(total,\n",
    "                       index=['source', 'country'],\n",
    "                       columns=['pay_date_datetime'],\n",
    "                       values=['pay_amount'],\n",
    "                       aggfunc={'pay_amount': [np.mean]},\n",
    "                       fill_value=0).astype('int')\n",
    "pd.set_option(\"display.max_columns\",140)\n",
    "\n",
    "ltv_source"
   ]
  },
  {
   "cell_type": "markdown",
   "metadata": {},
   "source": [
    "##### Вывод:\n",
    "Проанализированы источники трафика и страны. Выведены средние платежи в разбивке по источникам трафика, странам."
   ]
  },
  {
   "cell_type": "markdown",
   "metadata": {},
   "source": [
    "##### Комментарий: \n",
    "<br> Оценка платежей выведена; прогноз LTV на 6 месяцев возможно было бы рассчитать линейной регрессией по данным среднего факта за минусом погрешности 5% наиболее больших и малых значений при общем количестве пользователей 1915."
   ]
  }
 ],
 "metadata": {
  "ExecuteTimeLog": [
   {
    "duration": 1093,
    "start_time": "2021-08-30T14:06:38.154Z"
   },
   {
    "duration": 129,
    "start_time": "2021-08-30T14:07:58.975Z"
   },
   {
    "duration": 157,
    "start_time": "2021-08-30T14:09:52.396Z"
   },
   {
    "duration": 12,
    "start_time": "2021-08-30T14:09:57.662Z"
   },
   {
    "duration": 12,
    "start_time": "2021-08-30T14:10:00.735Z"
   },
   {
    "duration": 3,
    "start_time": "2021-08-30T14:18:54.829Z"
   },
   {
    "duration": 1383,
    "start_time": "2021-08-30T14:18:55.345Z"
   },
   {
    "duration": 916,
    "start_time": "2021-08-30T14:18:55.814Z"
   },
   {
    "duration": 66,
    "start_time": "2021-08-30T14:22:52.885Z"
   },
   {
    "duration": 66732,
    "start_time": "2021-08-30T14:23:16.861Z"
   },
   {
    "duration": 2,
    "start_time": "2021-08-30T14:24:23.596Z"
   },
   {
    "duration": 1457,
    "start_time": "2021-08-30T14:24:23.600Z"
   },
   {
    "duration": 77815,
    "start_time": "2021-08-30T14:24:28.236Z"
   },
   {
    "duration": 3,
    "start_time": "2021-08-30T14:25:48.149Z"
   },
   {
    "duration": 1292,
    "start_time": "2021-08-30T14:26:03.496Z"
   },
   {
    "duration": 1265,
    "start_time": "2021-08-30T14:26:20.135Z"
   },
   {
    "duration": 1307,
    "start_time": "2021-08-30T14:26:59.704Z"
   },
   {
    "duration": 1477,
    "start_time": "2021-08-30T14:35:54.731Z"
   },
   {
    "duration": 63,
    "start_time": "2021-08-30T14:45:06.851Z"
   },
   {
    "duration": 239,
    "start_time": "2021-08-30T14:45:29.205Z"
   },
   {
    "duration": 197,
    "start_time": "2021-08-30T14:59:35.729Z"
   },
   {
    "duration": 3,
    "start_time": "2021-08-30T15:01:11.041Z"
   },
   {
    "duration": 3843,
    "start_time": "2021-08-30T15:01:12.290Z"
   },
   {
    "duration": 1501,
    "start_time": "2021-08-30T15:08:48.605Z"
   },
   {
    "duration": 169,
    "start_time": "2021-08-30T15:10:38.333Z"
   },
   {
    "duration": 1465,
    "start_time": "2021-08-30T15:28:20.342Z"
   },
   {
    "duration": 1417,
    "start_time": "2021-08-30T15:28:35.599Z"
   },
   {
    "duration": 204,
    "start_time": "2021-08-30T15:31:24.046Z"
   },
   {
    "duration": 1371,
    "start_time": "2021-08-30T15:32:42.792Z"
   },
   {
    "duration": 175,
    "start_time": "2021-08-30T15:58:28.943Z"
   },
   {
    "duration": 2992,
    "start_time": "2021-08-30T15:58:39.296Z"
   },
   {
    "duration": 3430,
    "start_time": "2021-08-30T15:58:58.921Z"
   },
   {
    "duration": 62,
    "start_time": "2021-08-30T16:03:40.250Z"
   },
   {
    "duration": 210,
    "start_time": "2021-08-30T16:04:03.497Z"
   },
   {
    "duration": 478,
    "start_time": "2021-08-30T16:05:32.786Z"
   },
   {
    "duration": 198,
    "start_time": "2021-08-30T16:05:48.160Z"
   },
   {
    "duration": 13,
    "start_time": "2021-08-30T16:16:59.775Z"
   },
   {
    "duration": 196,
    "start_time": "2021-08-30T16:20:06.965Z"
   },
   {
    "duration": 182,
    "start_time": "2021-08-30T16:20:24.974Z"
   },
   {
    "duration": 1294,
    "start_time": "2021-08-30T16:23:53.281Z"
   },
   {
    "duration": 3,
    "start_time": "2021-08-30T16:23:56.551Z"
   },
   {
    "duration": 1293,
    "start_time": "2021-08-30T16:23:57.880Z"
   },
   {
    "duration": 1332,
    "start_time": "2021-08-30T16:25:31.582Z"
   },
   {
    "duration": 220,
    "start_time": "2021-08-30T16:28:50.962Z"
   },
   {
    "duration": 288,
    "start_time": "2021-08-30T16:45:08.081Z"
   },
   {
    "duration": 3,
    "start_time": "2021-08-30T18:02:56.811Z"
   },
   {
    "duration": 719,
    "start_time": "2021-08-30T18:02:57.509Z"
   },
   {
    "duration": 3,
    "start_time": "2021-08-30T18:03:43.476Z"
   },
   {
    "duration": 718,
    "start_time": "2021-08-30T18:03:44.351Z"
   },
   {
    "duration": 3,
    "start_time": "2021-08-30T18:04:15.524Z"
   },
   {
    "duration": 800,
    "start_time": "2021-08-30T18:04:16.269Z"
   },
   {
    "duration": 2249,
    "start_time": "2021-08-30T18:07:21.637Z"
   },
   {
    "duration": 700,
    "start_time": "2021-08-30T18:08:11.911Z"
   },
   {
    "duration": 710,
    "start_time": "2021-08-30T18:09:31.445Z"
   },
   {
    "duration": 717,
    "start_time": "2021-08-30T18:10:04.646Z"
   },
   {
    "duration": 193,
    "start_time": "2021-08-30T18:10:30.512Z"
   },
   {
    "duration": 719,
    "start_time": "2021-08-30T18:12:11.545Z"
   },
   {
    "duration": 667,
    "start_time": "2021-08-30T18:13:26.248Z"
   },
   {
    "duration": 1127,
    "start_time": "2021-09-01T05:20:45.843Z"
   },
   {
    "duration": 2346,
    "start_time": "2021-09-01T05:20:47.922Z"
   },
   {
    "duration": 2417,
    "start_time": "2021-09-01T05:21:14.273Z"
   },
   {
    "duration": 3,
    "start_time": "2021-09-01T05:22:37.895Z"
   },
   {
    "duration": 2156,
    "start_time": "2021-09-01T05:22:38.327Z"
   },
   {
    "duration": 1481,
    "start_time": "2021-09-02T08:01:28.477Z"
   },
   {
    "duration": 216,
    "start_time": "2021-09-02T08:01:29.959Z"
   },
   {
    "duration": 11,
    "start_time": "2021-09-02T08:01:37.448Z"
   },
   {
    "duration": 826,
    "start_time": "2021-09-02T08:02:13.328Z"
   },
   {
    "duration": 10,
    "start_time": "2021-09-02T08:02:15.208Z"
   },
   {
    "duration": 31,
    "start_time": "2021-09-02T08:07:22.522Z"
   },
   {
    "duration": 7,
    "start_time": "2021-09-02T08:07:44.761Z"
   },
   {
    "duration": 3,
    "start_time": "2021-09-02T08:12:21.620Z"
   },
   {
    "duration": 3,
    "start_time": "2021-09-02T08:12:25.077Z"
   },
   {
    "duration": 1010,
    "start_time": "2021-09-02T08:12:25.579Z"
   },
   {
    "duration": 3,
    "start_time": "2021-09-02T08:12:26.591Z"
   },
   {
    "duration": 8,
    "start_time": "2021-09-02T08:12:26.712Z"
   },
   {
    "duration": 30,
    "start_time": "2021-09-02T08:12:28.388Z"
   },
   {
    "duration": 8,
    "start_time": "2021-09-02T08:12:29.071Z"
   },
   {
    "duration": 6,
    "start_time": "2021-09-02T08:12:29.987Z"
   },
   {
    "duration": 22259,
    "start_time": "2021-09-02T08:54:47.781Z"
   },
   {
    "duration": 315,
    "start_time": "2021-09-02T08:55:38.437Z"
   },
   {
    "duration": 4,
    "start_time": "2021-09-02T08:57:50.142Z"
   },
   {
    "duration": 5,
    "start_time": "2021-09-02T08:59:42.344Z"
   },
   {
    "duration": 4,
    "start_time": "2021-09-02T09:00:13.432Z"
   },
   {
    "duration": 5,
    "start_time": "2021-09-02T09:01:58.642Z"
   },
   {
    "duration": 327,
    "start_time": "2021-09-02T09:03:39.888Z"
   },
   {
    "duration": 1174,
    "start_time": "2021-09-02T09:04:38.209Z"
   },
   {
    "duration": 1193,
    "start_time": "2021-09-02T09:04:55.877Z"
   },
   {
    "duration": 330,
    "start_time": "2021-09-02T09:05:49.558Z"
   },
   {
    "duration": 334,
    "start_time": "2021-09-02T09:06:10.114Z"
   },
   {
    "duration": 387,
    "start_time": "2021-09-02T09:06:20.490Z"
   },
   {
    "duration": 392,
    "start_time": "2021-09-02T09:06:48.986Z"
   },
   {
    "duration": 338,
    "start_time": "2021-09-02T09:07:03.405Z"
   },
   {
    "duration": 1224,
    "start_time": "2021-09-02T09:10:34.516Z"
   },
   {
    "duration": 1317,
    "start_time": "2021-09-02T09:11:04.762Z"
   },
   {
    "duration": 1426,
    "start_time": "2021-09-02T09:11:37.051Z"
   },
   {
    "duration": 326,
    "start_time": "2021-09-02T09:11:44.947Z"
   },
   {
    "duration": 325,
    "start_time": "2021-09-02T09:12:27.165Z"
   },
   {
    "duration": 319,
    "start_time": "2021-09-02T09:13:29.556Z"
   },
   {
    "duration": 313,
    "start_time": "2021-09-02T09:13:41.292Z"
   },
   {
    "duration": 329,
    "start_time": "2021-09-02T09:14:27.924Z"
   },
   {
    "duration": 316,
    "start_time": "2021-09-02T09:16:23.518Z"
   },
   {
    "duration": 319,
    "start_time": "2021-09-02T09:16:32.845Z"
   },
   {
    "duration": 399,
    "start_time": "2021-09-02T09:16:40.165Z"
   },
   {
    "duration": 281,
    "start_time": "2021-09-02T09:18:01.725Z"
   },
   {
    "duration": 13,
    "start_time": "2021-09-02T09:29:15.421Z"
   },
   {
    "duration": 16,
    "start_time": "2021-09-02T09:32:51.924Z"
   },
   {
    "duration": 8,
    "start_time": "2021-09-02T09:33:16.492Z"
   },
   {
    "duration": 15035,
    "start_time": "2021-09-02T09:33:59.628Z"
   },
   {
    "duration": 12,
    "start_time": "2021-09-02T09:34:18.092Z"
   },
   {
    "duration": 14,
    "start_time": "2021-09-02T09:51:43.514Z"
   },
   {
    "duration": 19,
    "start_time": "2021-09-02T09:52:03.603Z"
   },
   {
    "duration": 5,
    "start_time": "2021-09-02T09:53:30.035Z"
   },
   {
    "duration": 22,
    "start_time": "2021-09-02T09:54:09.948Z"
   },
   {
    "duration": 21,
    "start_time": "2021-09-02T09:54:24.236Z"
   },
   {
    "duration": 20,
    "start_time": "2021-09-02T09:54:30.748Z"
   },
   {
    "duration": 23,
    "start_time": "2021-09-02T09:54:35.883Z"
   },
   {
    "duration": 32,
    "start_time": "2021-09-02T09:55:10.742Z"
   },
   {
    "duration": 21,
    "start_time": "2021-09-02T09:56:05.966Z"
   },
   {
    "duration": 21,
    "start_time": "2021-09-02T09:57:01.686Z"
   },
   {
    "duration": 19,
    "start_time": "2021-09-02T09:57:32.567Z"
   },
   {
    "duration": 20,
    "start_time": "2021-09-02T09:59:27.998Z"
   },
   {
    "duration": 20,
    "start_time": "2021-09-02T09:59:35.342Z"
   },
   {
    "duration": 19,
    "start_time": "2021-09-02T09:59:40.167Z"
   },
   {
    "duration": 20,
    "start_time": "2021-09-02T10:08:56.921Z"
   },
   {
    "duration": 21,
    "start_time": "2021-09-02T10:10:31.884Z"
   },
   {
    "duration": 20,
    "start_time": "2021-09-02T10:11:39.915Z"
   },
   {
    "duration": 981,
    "start_time": "2021-09-02T10:12:04.682Z"
   },
   {
    "duration": 1170,
    "start_time": "2021-09-02T10:39:02.252Z"
   },
   {
    "duration": 1186,
    "start_time": "2021-09-02T10:39:35.615Z"
   },
   {
    "duration": 1236,
    "start_time": "2021-09-02T10:40:28.757Z"
   },
   {
    "duration": 1128,
    "start_time": "2021-09-02T10:45:44.671Z"
   },
   {
    "duration": 2275,
    "start_time": "2021-09-02T11:11:54.195Z"
   },
   {
    "duration": 58,
    "start_time": "2021-09-02T11:12:24.011Z"
   },
   {
    "duration": 9,
    "start_time": "2021-09-02T11:12:56.040Z"
   },
   {
    "duration": 10,
    "start_time": "2021-09-02T11:13:07.008Z"
   },
   {
    "duration": 11,
    "start_time": "2021-09-02T11:13:20.122Z"
   },
   {
    "duration": 13,
    "start_time": "2021-09-02T11:13:37.715Z"
   },
   {
    "duration": 12,
    "start_time": "2021-09-02T11:13:51.771Z"
   },
   {
    "duration": 8,
    "start_time": "2021-09-02T11:13:59.305Z"
   },
   {
    "duration": 4,
    "start_time": "2021-09-02T11:14:31.601Z"
   },
   {
    "duration": 4,
    "start_time": "2021-09-02T11:17:51.386Z"
   },
   {
    "duration": 8,
    "start_time": "2021-09-02T11:18:00.314Z"
   },
   {
    "duration": 13,
    "start_time": "2021-09-02T11:18:16.859Z"
   },
   {
    "duration": 9,
    "start_time": "2021-09-02T11:18:25.291Z"
   },
   {
    "duration": 10,
    "start_time": "2021-09-02T11:18:51.266Z"
   },
   {
    "duration": 11,
    "start_time": "2021-09-02T11:18:56.275Z"
   },
   {
    "duration": 9,
    "start_time": "2021-09-02T11:19:19.754Z"
   },
   {
    "duration": 5,
    "start_time": "2021-09-02T19:07:10.521Z"
   },
   {
    "duration": 14,
    "start_time": "2021-09-02T19:08:15.726Z"
   },
   {
    "duration": 6,
    "start_time": "2021-09-02T19:10:19.661Z"
   },
   {
    "duration": 8,
    "start_time": "2021-09-02T19:10:31.068Z"
   },
   {
    "duration": 7,
    "start_time": "2021-09-02T19:12:37.596Z"
   },
   {
    "duration": 7,
    "start_time": "2021-09-02T19:12:54.759Z"
   },
   {
    "duration": 10,
    "start_time": "2021-09-02T19:13:46.501Z"
   },
   {
    "duration": 27,
    "start_time": "2021-09-02T19:14:22.349Z"
   },
   {
    "duration": 31,
    "start_time": "2021-09-02T19:14:30.246Z"
   },
   {
    "duration": 21,
    "start_time": "2021-09-02T19:14:45.319Z"
   },
   {
    "duration": 21,
    "start_time": "2021-09-02T19:15:04.647Z"
   },
   {
    "duration": 4,
    "start_time": "2021-09-02T19:18:44.987Z"
   },
   {
    "duration": 5,
    "start_time": "2021-09-02T19:18:54.352Z"
   },
   {
    "duration": 4,
    "start_time": "2021-09-02T19:20:40.712Z"
   },
   {
    "duration": 5,
    "start_time": "2021-09-02T19:20:52.095Z"
   },
   {
    "duration": 6,
    "start_time": "2021-09-02T19:21:24.978Z"
   },
   {
    "duration": 5,
    "start_time": "2021-09-02T20:08:55.288Z"
   },
   {
    "duration": 3,
    "start_time": "2021-09-02T20:09:22.801Z"
   },
   {
    "duration": 4,
    "start_time": "2021-09-02T20:09:32.489Z"
   },
   {
    "duration": 14,
    "start_time": "2021-09-02T20:11:54.478Z"
   },
   {
    "duration": 5,
    "start_time": "2021-09-02T20:30:06.129Z"
   },
   {
    "duration": 5587,
    "start_time": "2021-09-02T20:30:45.226Z"
   },
   {
    "duration": 8,
    "start_time": "2021-09-02T20:30:59.659Z"
   },
   {
    "duration": 303,
    "start_time": "2021-09-02T20:31:46.528Z"
   },
   {
    "duration": 12,
    "start_time": "2021-09-02T20:31:56.763Z"
   },
   {
    "duration": 10,
    "start_time": "2021-09-02T20:32:23.672Z"
   },
   {
    "duration": 9,
    "start_time": "2021-09-02T20:34:38.338Z"
   },
   {
    "duration": 304,
    "start_time": "2021-09-02T20:39:45.276Z"
   },
   {
    "duration": 319,
    "start_time": "2021-09-02T20:40:13.723Z"
   },
   {
    "duration": 378,
    "start_time": "2021-09-02T20:40:49.019Z"
   },
   {
    "duration": 292,
    "start_time": "2021-09-02T20:40:58.108Z"
   },
   {
    "duration": 4,
    "start_time": "2021-09-02T21:09:36.198Z"
   },
   {
    "duration": 4,
    "start_time": "2021-09-02T21:10:14.318Z"
   },
   {
    "duration": 4,
    "start_time": "2021-09-02T21:10:24.718Z"
   },
   {
    "duration": 4,
    "start_time": "2021-09-02T21:10:33.103Z"
   },
   {
    "duration": 4,
    "start_time": "2021-09-02T21:10:38.593Z"
   },
   {
    "duration": 1066,
    "start_time": "2021-09-02T21:27:25.812Z"
   },
   {
    "duration": 323,
    "start_time": "2021-09-02T21:27:52.236Z"
   },
   {
    "duration": 35,
    "start_time": "2021-09-02T21:28:09.052Z"
   },
   {
    "duration": 364,
    "start_time": "2021-09-02T21:29:54.069Z"
   },
   {
    "duration": 64,
    "start_time": "2021-09-02T21:30:09.612Z"
   },
   {
    "duration": 284,
    "start_time": "2021-09-02T21:31:26.679Z"
   },
   {
    "duration": 321,
    "start_time": "2021-09-02T21:34:46.016Z"
   },
   {
    "duration": 280,
    "start_time": "2021-09-02T21:35:25.402Z"
   },
   {
    "duration": 74,
    "start_time": "2021-09-02T21:39:04.105Z"
   },
   {
    "duration": 57,
    "start_time": "2021-09-02T21:39:22.353Z"
   },
   {
    "duration": 63,
    "start_time": "2021-09-02T21:39:33.780Z"
   },
   {
    "duration": 57,
    "start_time": "2021-09-02T21:39:41.536Z"
   },
   {
    "duration": 57,
    "start_time": "2021-09-02T21:39:52.984Z"
   },
   {
    "duration": 339,
    "start_time": "2021-09-02T21:40:09.513Z"
   },
   {
    "duration": 58,
    "start_time": "2021-09-02T21:40:22.480Z"
   },
   {
    "duration": 57,
    "start_time": "2021-09-02T21:40:33.246Z"
   },
   {
    "duration": 276,
    "start_time": "2021-09-02T21:40:56.530Z"
   },
   {
    "duration": 69,
    "start_time": "2021-09-02T21:42:29.164Z"
   },
   {
    "duration": 77,
    "start_time": "2021-09-02T21:42:42.473Z"
   },
   {
    "duration": 79,
    "start_time": "2021-09-02T21:43:41.377Z"
   },
   {
    "duration": 75,
    "start_time": "2021-09-02T21:44:05.625Z"
   },
   {
    "duration": 73,
    "start_time": "2021-09-02T21:44:18.298Z"
   },
   {
    "duration": 45,
    "start_time": "2021-09-02T21:44:31.554Z"
   },
   {
    "duration": 341,
    "start_time": "2021-09-02T21:44:54.547Z"
   },
   {
    "duration": 328,
    "start_time": "2021-09-02T21:44:59.850Z"
   },
   {
    "duration": 48,
    "start_time": "2021-09-02T21:45:14.273Z"
   },
   {
    "duration": 319,
    "start_time": "2021-09-02T21:45:37.986Z"
   },
   {
    "duration": 315,
    "start_time": "2021-09-02T21:45:49.338Z"
   },
   {
    "duration": 49,
    "start_time": "2021-09-02T21:45:59.978Z"
   },
   {
    "duration": 77,
    "start_time": "2021-09-02T21:46:46.783Z"
   },
   {
    "duration": 71,
    "start_time": "2021-09-02T21:47:49.674Z"
   },
   {
    "duration": 46,
    "start_time": "2021-09-02T21:47:56.684Z"
   },
   {
    "duration": 48,
    "start_time": "2021-09-02T21:48:59.763Z"
   },
   {
    "duration": 71,
    "start_time": "2021-09-02T21:50:54.023Z"
   },
   {
    "duration": 7300,
    "start_time": "2021-09-02T21:53:14.359Z"
   },
   {
    "duration": 6531,
    "start_time": "2021-09-02T21:59:09.730Z"
   },
   {
    "duration": 6652,
    "start_time": "2021-09-02T21:59:39.921Z"
   },
   {
    "duration": 243,
    "start_time": "2021-09-02T22:03:20.657Z"
   },
   {
    "duration": 387,
    "start_time": "2021-09-02T22:04:00.177Z"
   },
   {
    "duration": 241,
    "start_time": "2021-09-02T22:04:15.124Z"
   },
   {
    "duration": 215,
    "start_time": "2021-09-02T22:04:24.106Z"
   },
   {
    "duration": 200,
    "start_time": "2021-09-02T22:04:28.745Z"
   },
   {
    "duration": 185,
    "start_time": "2021-09-02T22:05:50.516Z"
   },
   {
    "duration": 186,
    "start_time": "2021-09-02T22:07:53.234Z"
   },
   {
    "duration": 191,
    "start_time": "2021-09-02T22:09:00.643Z"
   },
   {
    "duration": 49,
    "start_time": "2021-09-02T22:09:22.396Z"
   },
   {
    "duration": 50,
    "start_time": "2021-09-02T22:09:33.570Z"
   },
   {
    "duration": 50,
    "start_time": "2021-09-02T22:09:55.580Z"
   },
   {
    "duration": 53,
    "start_time": "2021-09-02T22:10:00.501Z"
   },
   {
    "duration": 12,
    "start_time": "2021-09-02T22:11:33.508Z"
   },
   {
    "duration": 49,
    "start_time": "2021-09-02T22:11:50.093Z"
   },
   {
    "duration": 189,
    "start_time": "2021-09-02T22:12:42.390Z"
   },
   {
    "duration": 193,
    "start_time": "2021-09-02T22:12:47.198Z"
   },
   {
    "duration": 345,
    "start_time": "2021-09-02T22:12:59.653Z"
   },
   {
    "duration": 217,
    "start_time": "2021-09-02T22:13:04.764Z"
   },
   {
    "duration": 190,
    "start_time": "2021-09-02T22:13:45.821Z"
   },
   {
    "duration": 221,
    "start_time": "2021-09-02T22:13:56.109Z"
   },
   {
    "duration": 415,
    "start_time": "2021-09-03T07:32:34.513Z"
   },
   {
    "duration": 1613,
    "start_time": "2021-09-03T07:33:08.003Z"
   },
   {
    "duration": 1695,
    "start_time": "2021-09-03T07:33:09.619Z"
   },
   {
    "duration": 5,
    "start_time": "2021-09-03T07:33:11.317Z"
   },
   {
    "duration": 23,
    "start_time": "2021-09-03T07:33:11.324Z"
   },
   {
    "duration": 21,
    "start_time": "2021-09-03T07:33:11.350Z"
   },
   {
    "duration": 66,
    "start_time": "2021-09-03T07:33:11.373Z"
   },
   {
    "duration": 11,
    "start_time": "2021-09-03T07:33:11.442Z"
   },
   {
    "duration": 11,
    "start_time": "2021-09-03T07:33:11.457Z"
   },
   {
    "duration": 15,
    "start_time": "2021-09-03T07:33:11.472Z"
   },
   {
    "duration": 31,
    "start_time": "2021-09-03T07:33:11.490Z"
   },
   {
    "duration": 13,
    "start_time": "2021-09-03T07:33:11.524Z"
   },
   {
    "duration": 41,
    "start_time": "2021-09-03T07:33:11.539Z"
   },
   {
    "duration": 2043,
    "start_time": "2021-09-03T07:33:11.583Z"
   },
   {
    "duration": 9,
    "start_time": "2021-09-03T07:33:13.628Z"
   },
   {
    "duration": 17,
    "start_time": "2021-09-03T07:33:13.639Z"
   },
   {
    "duration": 127,
    "start_time": "2021-09-03T07:33:13.659Z"
   },
   {
    "duration": 6,
    "start_time": "2021-09-03T07:33:13.788Z"
   },
   {
    "duration": 28,
    "start_time": "2021-09-03T07:33:13.797Z"
   },
   {
    "duration": 13,
    "start_time": "2021-09-03T07:33:13.827Z"
   },
   {
    "duration": 16,
    "start_time": "2021-09-03T07:33:13.843Z"
   },
   {
    "duration": 15,
    "start_time": "2021-09-03T07:33:13.861Z"
   },
   {
    "duration": 105,
    "start_time": "2021-09-03T07:33:13.878Z"
   },
   {
    "duration": 34,
    "start_time": "2021-09-03T07:33:13.989Z"
   },
   {
    "duration": 66,
    "start_time": "2021-09-03T07:33:14.027Z"
   },
   {
    "duration": 346,
    "start_time": "2021-09-03T07:33:14.097Z"
   },
   {
    "duration": 375,
    "start_time": "2021-09-03T07:33:14.446Z"
   },
   {
    "duration": 120,
    "start_time": "2021-09-03T07:33:14.824Z"
   },
   {
    "duration": 145,
    "start_time": "2021-09-03T07:33:14.946Z"
   },
   {
    "duration": 97,
    "start_time": "2021-09-03T07:33:43.900Z"
   },
   {
    "duration": 90,
    "start_time": "2021-09-03T07:34:01.712Z"
   },
   {
    "duration": 14,
    "start_time": "2021-09-03T07:34:04.927Z"
   },
   {
    "duration": 99,
    "start_time": "2021-09-03T07:34:45.573Z"
   },
   {
    "duration": 92,
    "start_time": "2021-09-03T07:34:48.989Z"
   },
   {
    "duration": 510,
    "start_time": "2021-09-03T07:38:06.751Z"
   },
   {
    "duration": 108,
    "start_time": "2021-09-03T07:38:26.934Z"
   },
   {
    "duration": 94,
    "start_time": "2021-09-03T07:38:29.230Z"
   },
   {
    "duration": 87,
    "start_time": "2021-09-03T07:39:45.434Z"
   },
   {
    "duration": 102,
    "start_time": "2021-09-03T07:42:21.282Z"
   },
   {
    "duration": 92,
    "start_time": "2021-09-03T07:42:24.096Z"
   },
   {
    "duration": 73,
    "start_time": "2021-09-03T07:42:42.257Z"
   },
   {
    "duration": 13,
    "start_time": "2021-09-03T07:42:43.869Z"
   },
   {
    "duration": 114,
    "start_time": "2021-09-03T07:43:01.031Z"
   },
   {
    "duration": 95,
    "start_time": "2021-09-03T07:43:01.630Z"
   },
   {
    "duration": 8,
    "start_time": "2021-09-03T07:54:39.582Z"
   },
   {
    "duration": 7,
    "start_time": "2021-09-03T07:55:10.934Z"
   },
   {
    "duration": 90,
    "start_time": "2021-09-03T08:22:31.642Z"
   },
   {
    "duration": 86,
    "start_time": "2021-09-03T08:23:24.425Z"
   },
   {
    "duration": 92,
    "start_time": "2021-09-03T08:34:52.891Z"
   },
   {
    "duration": 84,
    "start_time": "2021-09-03T08:35:05.718Z"
   },
   {
    "duration": 86,
    "start_time": "2021-09-03T08:35:32.891Z"
   },
   {
    "duration": 825,
    "start_time": "2021-09-03T08:49:57.769Z"
   },
   {
    "duration": 88,
    "start_time": "2021-09-03T08:50:10.702Z"
   },
   {
    "duration": 81,
    "start_time": "2021-09-03T08:50:25.625Z"
   },
   {
    "duration": 83,
    "start_time": "2021-09-03T08:51:03.320Z"
   },
   {
    "duration": 83,
    "start_time": "2021-09-03T08:51:10.848Z"
   },
   {
    "duration": 81,
    "start_time": "2021-09-03T08:51:21.057Z"
   },
   {
    "duration": 124,
    "start_time": "2021-09-03T08:53:50.426Z"
   },
   {
    "duration": 889,
    "start_time": "2021-09-03T08:54:56.516Z"
   },
   {
    "duration": 1064,
    "start_time": "2021-09-03T08:55:14.604Z"
   },
   {
    "duration": 174,
    "start_time": "2021-09-03T08:55:28.889Z"
   },
   {
    "duration": 114,
    "start_time": "2021-09-03T08:55:37.763Z"
   },
   {
    "duration": 478,
    "start_time": "2021-09-03T08:56:13.195Z"
   },
   {
    "duration": 501,
    "start_time": "2021-09-03T08:57:24.012Z"
   },
   {
    "duration": 334,
    "start_time": "2021-09-03T08:57:52.955Z"
   },
   {
    "duration": 471,
    "start_time": "2021-09-03T08:58:01.091Z"
   },
   {
    "duration": 137,
    "start_time": "2021-09-03T08:59:31.981Z"
   },
   {
    "duration": 680,
    "start_time": "2021-09-03T08:59:37.491Z"
   },
   {
    "duration": 116,
    "start_time": "2021-09-03T09:00:18.048Z"
   },
   {
    "duration": 79,
    "start_time": "2021-09-03T09:00:36.838Z"
   },
   {
    "duration": 77,
    "start_time": "2021-09-03T09:13:52.480Z"
   },
   {
    "duration": 102,
    "start_time": "2021-09-03T09:14:06.441Z"
   },
   {
    "duration": 292,
    "start_time": "2021-09-03T09:15:05.875Z"
   },
   {
    "duration": 56,
    "start_time": "2021-09-03T09:15:59.179Z"
   },
   {
    "duration": 369,
    "start_time": "2021-09-03T09:16:45.347Z"
   },
   {
    "duration": 385,
    "start_time": "2021-09-03T09:17:02.796Z"
   },
   {
    "duration": 59,
    "start_time": "2021-09-03T09:17:10.185Z"
   },
   {
    "duration": 437,
    "start_time": "2021-09-03T09:17:29.419Z"
   },
   {
    "duration": 59,
    "start_time": "2021-09-03T09:17:41.354Z"
   },
   {
    "duration": 60,
    "start_time": "2021-09-03T09:17:50.082Z"
   },
   {
    "duration": 60,
    "start_time": "2021-09-03T09:18:00.626Z"
   },
   {
    "duration": 69,
    "start_time": "2021-09-03T09:18:04.850Z"
   },
   {
    "duration": 343,
    "start_time": "2021-09-03T09:18:51.212Z"
   },
   {
    "duration": 87,
    "start_time": "2021-09-03T09:19:01.291Z"
   },
   {
    "duration": 87,
    "start_time": "2021-09-03T09:19:10.262Z"
   },
   {
    "duration": 86,
    "start_time": "2021-09-03T09:19:41.324Z"
   },
   {
    "duration": 59,
    "start_time": "2021-09-03T09:19:47.579Z"
   },
   {
    "duration": 120,
    "start_time": "2021-09-03T09:33:53.410Z"
   },
   {
    "duration": 75,
    "start_time": "2021-09-03T09:34:13.513Z"
   },
   {
    "duration": 70,
    "start_time": "2021-09-03T09:42:04.091Z"
   },
   {
    "duration": 86,
    "start_time": "2021-09-03T10:08:21.067Z"
   },
   {
    "duration": 385,
    "start_time": "2021-09-03T10:08:51.846Z"
   },
   {
    "duration": 3,
    "start_time": "2021-09-03T10:11:10.150Z"
   },
   {
    "duration": 1502,
    "start_time": "2021-09-03T10:40:45.835Z"
   },
   {
    "duration": 1176,
    "start_time": "2021-09-03T10:40:47.340Z"
   },
   {
    "duration": 4,
    "start_time": "2021-09-03T10:40:48.522Z"
   },
   {
    "duration": 67,
    "start_time": "2021-09-03T10:40:48.529Z"
   },
   {
    "duration": 30,
    "start_time": "2021-09-03T10:40:48.598Z"
   },
   {
    "duration": 45,
    "start_time": "2021-09-03T10:40:48.630Z"
   },
   {
    "duration": 42,
    "start_time": "2021-09-03T10:40:48.680Z"
   },
   {
    "duration": 17,
    "start_time": "2021-09-03T10:40:48.726Z"
   },
   {
    "duration": 27,
    "start_time": "2021-09-03T10:40:48.746Z"
   },
   {
    "duration": 19,
    "start_time": "2021-09-03T10:40:48.777Z"
   },
   {
    "duration": 18,
    "start_time": "2021-09-03T10:40:48.798Z"
   },
   {
    "duration": 40,
    "start_time": "2021-09-03T10:40:48.818Z"
   },
   {
    "duration": 1969,
    "start_time": "2021-09-03T10:40:48.860Z"
   },
   {
    "duration": 9,
    "start_time": "2021-09-03T10:40:50.831Z"
   },
   {
    "duration": 10,
    "start_time": "2021-09-03T10:40:50.843Z"
   },
   {
    "duration": 133,
    "start_time": "2021-09-03T10:40:50.856Z"
   },
   {
    "duration": 8,
    "start_time": "2021-09-03T10:40:50.992Z"
   },
   {
    "duration": 27,
    "start_time": "2021-09-03T10:40:51.003Z"
   },
   {
    "duration": 15,
    "start_time": "2021-09-03T10:40:51.033Z"
   },
   {
    "duration": 9,
    "start_time": "2021-09-03T10:40:51.051Z"
   },
   {
    "duration": 8,
    "start_time": "2021-09-03T10:40:51.063Z"
   },
   {
    "duration": 312,
    "start_time": "2021-09-03T10:40:51.118Z"
   },
   {
    "duration": 16,
    "start_time": "2021-09-03T10:40:51.434Z"
   },
   {
    "duration": 364,
    "start_time": "2021-09-03T10:40:51.453Z"
   },
   {
    "duration": 123,
    "start_time": "2021-09-03T10:40:51.820Z"
   },
   {
    "duration": 143,
    "start_time": "2021-09-03T10:40:51.945Z"
   },
   {
    "duration": 3,
    "start_time": "2021-09-03T10:40:52.091Z"
   },
   {
    "duration": 410,
    "start_time": "2021-09-04T16:11:03.781Z"
   },
   {
    "duration": 1516,
    "start_time": "2021-09-04T16:11:10.452Z"
   },
   {
    "duration": 803,
    "start_time": "2021-09-04T16:11:11.970Z"
   },
   {
    "duration": 4,
    "start_time": "2021-09-04T16:11:12.777Z"
   },
   {
    "duration": 29,
    "start_time": "2021-09-04T16:11:12.784Z"
   },
   {
    "duration": 16,
    "start_time": "2021-09-04T16:11:12.816Z"
   },
   {
    "duration": 60,
    "start_time": "2021-09-04T16:11:12.835Z"
   },
   {
    "duration": 10,
    "start_time": "2021-09-04T16:11:12.898Z"
   },
   {
    "duration": 14,
    "start_time": "2021-09-04T16:11:12.911Z"
   },
   {
    "duration": 39,
    "start_time": "2021-09-04T16:11:12.927Z"
   },
   {
    "duration": 7,
    "start_time": "2021-09-04T16:11:12.969Z"
   },
   {
    "duration": 13,
    "start_time": "2021-09-04T16:11:12.979Z"
   },
   {
    "duration": 32,
    "start_time": "2021-09-04T16:11:14.061Z"
   },
   {
    "duration": 2157,
    "start_time": "2021-09-04T16:11:14.248Z"
   },
   {
    "duration": 9,
    "start_time": "2021-09-04T16:11:16.408Z"
   },
   {
    "duration": 7,
    "start_time": "2021-09-04T16:11:16.421Z"
   },
   {
    "duration": 141,
    "start_time": "2021-09-04T16:11:16.432Z"
   },
   {
    "duration": 7,
    "start_time": "2021-09-04T16:11:16.576Z"
   },
   {
    "duration": 14,
    "start_time": "2021-09-04T16:11:16.791Z"
   },
   {
    "duration": 14,
    "start_time": "2021-09-04T16:11:16.991Z"
   },
   {
    "duration": 6,
    "start_time": "2021-09-04T16:11:17.176Z"
   },
   {
    "duration": 6,
    "start_time": "2021-09-04T16:11:17.577Z"
   },
   {
    "duration": 30,
    "start_time": "2021-09-04T16:11:17.765Z"
   },
   {
    "duration": 311,
    "start_time": "2021-09-04T16:11:20.164Z"
   },
   {
    "duration": 14,
    "start_time": "2021-09-04T16:11:20.536Z"
   },
   {
    "duration": 328,
    "start_time": "2021-09-04T16:11:20.703Z"
   },
   {
    "duration": 133,
    "start_time": "2021-09-04T16:11:21.033Z"
   },
   {
    "duration": 141,
    "start_time": "2021-09-04T16:11:21.169Z"
   },
   {
    "duration": 3,
    "start_time": "2021-09-04T16:11:21.444Z"
   },
   {
    "duration": 49,
    "start_time": "2021-09-04T16:15:20.832Z"
   },
   {
    "duration": 52,
    "start_time": "2021-09-04T16:15:59.264Z"
   },
   {
    "duration": 52,
    "start_time": "2021-09-04T16:16:11.055Z"
   },
   {
    "duration": 51,
    "start_time": "2021-09-04T16:16:22.048Z"
   },
   {
    "duration": 382,
    "start_time": "2021-09-04T16:20:48.057Z"
   },
   {
    "duration": 367,
    "start_time": "2021-09-04T16:21:05.976Z"
   },
   {
    "duration": 141,
    "start_time": "2021-09-04T16:21:35.611Z"
   },
   {
    "duration": 168,
    "start_time": "2021-09-04T16:21:48.953Z"
   },
   {
    "duration": 133,
    "start_time": "2021-09-04T16:23:42.666Z"
   },
   {
    "duration": 294,
    "start_time": "2021-09-04T16:24:06.820Z"
   },
   {
    "duration": 178,
    "start_time": "2021-09-04T16:24:32.919Z"
   },
   {
    "duration": 388,
    "start_time": "2021-09-04T16:25:51.075Z"
   },
   {
    "duration": 460,
    "start_time": "2021-09-04T16:26:10.591Z"
   },
   {
    "duration": 177,
    "start_time": "2021-09-04T16:35:06.791Z"
   },
   {
    "duration": 336,
    "start_time": "2021-09-04T16:36:11.028Z"
   },
   {
    "duration": 49,
    "start_time": "2021-09-04T16:36:25.743Z"
   },
   {
    "duration": 386,
    "start_time": "2021-09-04T16:37:00.110Z"
   },
   {
    "duration": 286,
    "start_time": "2021-09-04T16:37:08.505Z"
   },
   {
    "duration": 185,
    "start_time": "2021-09-04T16:37:26.189Z"
   },
   {
    "duration": 190,
    "start_time": "2021-09-04T16:37:34.868Z"
   },
   {
    "duration": 246,
    "start_time": "2021-09-04T16:41:36.553Z"
   },
   {
    "duration": 21367,
    "start_time": "2021-09-04T16:44:49.929Z"
   },
   {
    "duration": 2045,
    "start_time": "2021-09-04T16:45:45.962Z"
   },
   {
    "duration": 21406,
    "start_time": "2021-09-04T16:46:09.666Z"
   },
   {
    "duration": 282,
    "start_time": "2021-09-04T16:47:30.093Z"
   },
   {
    "duration": 49,
    "start_time": "2021-09-04T16:50:34.325Z"
   },
   {
    "duration": 373,
    "start_time": "2021-09-04T16:50:45.191Z"
   },
   {
    "duration": 52,
    "start_time": "2021-09-04T16:50:57.166Z"
   },
   {
    "duration": 51,
    "start_time": "2021-09-04T16:51:08.990Z"
   },
   {
    "duration": 48,
    "start_time": "2021-09-04T16:51:15.746Z"
   },
   {
    "duration": 376,
    "start_time": "2021-09-04T17:15:49.883Z"
   },
   {
    "duration": 176,
    "start_time": "2021-09-04T17:16:02.250Z"
   },
   {
    "duration": 163,
    "start_time": "2021-09-04T17:17:34.963Z"
   },
   {
    "duration": 478,
    "start_time": "2021-09-04T17:19:57.653Z"
   },
   {
    "duration": 147,
    "start_time": "2021-09-04T17:20:09.535Z"
   },
   {
    "duration": 173,
    "start_time": "2021-09-04T17:40:48.805Z"
   },
   {
    "duration": 113,
    "start_time": "2021-09-04T17:41:19.392Z"
   },
   {
    "duration": 123,
    "start_time": "2021-09-04T17:41:44.139Z"
   },
   {
    "duration": 100,
    "start_time": "2021-09-04T17:43:22.223Z"
   },
   {
    "duration": 140,
    "start_time": "2021-09-04T17:44:35.977Z"
   },
   {
    "duration": 339,
    "start_time": "2021-09-04T17:48:07.561Z"
   },
   {
    "duration": 732,
    "start_time": "2021-09-04T17:48:37.440Z"
   },
   {
    "duration": 102,
    "start_time": "2021-09-04T17:48:59.186Z"
   },
   {
    "duration": 375,
    "start_time": "2021-09-04T17:49:24.494Z"
   },
   {
    "duration": 396,
    "start_time": "2021-09-04T17:49:43.728Z"
   },
   {
    "duration": 1445,
    "start_time": "2021-09-04T17:58:25.404Z"
   },
   {
    "duration": 737,
    "start_time": "2021-09-04T17:58:26.852Z"
   },
   {
    "duration": 4,
    "start_time": "2021-09-04T17:58:27.593Z"
   },
   {
    "duration": 24,
    "start_time": "2021-09-04T17:58:27.600Z"
   },
   {
    "duration": 17,
    "start_time": "2021-09-04T17:58:27.626Z"
   },
   {
    "duration": 50,
    "start_time": "2021-09-04T17:58:27.646Z"
   },
   {
    "duration": 11,
    "start_time": "2021-09-04T17:58:27.699Z"
   },
   {
    "duration": 9,
    "start_time": "2021-09-04T17:58:27.714Z"
   },
   {
    "duration": 44,
    "start_time": "2021-09-04T17:58:27.726Z"
   },
   {
    "duration": 7,
    "start_time": "2021-09-04T17:58:27.772Z"
   },
   {
    "duration": 9,
    "start_time": "2021-09-04T17:58:27.781Z"
   },
   {
    "duration": 32,
    "start_time": "2021-09-04T17:58:27.792Z"
   },
   {
    "duration": 2030,
    "start_time": "2021-09-04T17:58:27.826Z"
   },
   {
    "duration": 14,
    "start_time": "2021-09-04T17:58:29.858Z"
   },
   {
    "duration": 14,
    "start_time": "2021-09-04T17:58:29.874Z"
   },
   {
    "duration": 125,
    "start_time": "2021-09-04T17:58:29.890Z"
   },
   {
    "duration": 6,
    "start_time": "2021-09-04T17:58:30.017Z"
   },
   {
    "duration": 25,
    "start_time": "2021-09-04T17:58:30.025Z"
   },
   {
    "duration": 26,
    "start_time": "2021-09-04T17:58:30.052Z"
   },
   {
    "duration": 11,
    "start_time": "2021-09-04T17:58:30.080Z"
   },
   {
    "duration": 14,
    "start_time": "2021-09-04T17:58:30.093Z"
   },
   {
    "duration": 344,
    "start_time": "2021-09-04T17:58:30.110Z"
   },
   {
    "duration": 14,
    "start_time": "2021-09-04T17:58:30.467Z"
   },
   {
    "duration": 356,
    "start_time": "2021-09-04T17:58:30.484Z"
   },
   {
    "duration": 142,
    "start_time": "2021-09-04T17:58:30.842Z"
   },
   {
    "duration": 143,
    "start_time": "2021-09-04T17:58:30.986Z"
   },
   {
    "duration": 3,
    "start_time": "2021-09-04T17:58:31.131Z"
   },
   {
    "duration": 465,
    "start_time": "2021-09-04T17:58:31.136Z"
   },
   {
    "duration": 5304,
    "start_time": "2021-09-04T17:58:26.300Z"
   },
   {
    "duration": 119,
    "start_time": "2021-09-04T17:59:35.516Z"
   },
   {
    "duration": 34,
    "start_time": "2021-09-04T18:00:04.367Z"
   },
   {
    "duration": 234,
    "start_time": "2021-09-04T20:19:18.714Z"
   },
   {
    "duration": 163,
    "start_time": "2021-09-04T20:29:14.697Z"
   },
   {
    "duration": 193,
    "start_time": "2021-09-04T20:30:21.007Z"
   },
   {
    "duration": 1340,
    "start_time": "2021-09-06T06:25:18.691Z"
   },
   {
    "duration": 703,
    "start_time": "2021-09-06T06:25:20.034Z"
   },
   {
    "duration": 3,
    "start_time": "2021-09-06T06:25:20.739Z"
   },
   {
    "duration": 18,
    "start_time": "2021-09-06T06:25:20.744Z"
   },
   {
    "duration": 18,
    "start_time": "2021-09-06T06:25:20.764Z"
   },
   {
    "duration": 32,
    "start_time": "2021-09-06T06:25:20.784Z"
   },
   {
    "duration": 7,
    "start_time": "2021-09-06T06:25:20.818Z"
   },
   {
    "duration": 9,
    "start_time": "2021-09-06T06:25:20.828Z"
   },
   {
    "duration": 16,
    "start_time": "2021-09-06T06:25:20.839Z"
   },
   {
    "duration": 5,
    "start_time": "2021-09-06T06:25:20.857Z"
   },
   {
    "duration": 30,
    "start_time": "2021-09-06T06:25:20.864Z"
   },
   {
    "duration": 24,
    "start_time": "2021-09-06T06:25:20.897Z"
   },
   {
    "duration": 1185,
    "start_time": "2021-09-06T06:25:20.923Z"
   },
   {
    "duration": 6,
    "start_time": "2021-09-06T06:25:22.110Z"
   },
   {
    "duration": 9,
    "start_time": "2021-09-06T06:25:22.118Z"
   },
   {
    "duration": 75,
    "start_time": "2021-09-06T06:25:22.129Z"
   },
   {
    "duration": 4,
    "start_time": "2021-09-06T06:25:22.206Z"
   },
   {
    "duration": 15,
    "start_time": "2021-09-06T06:25:22.211Z"
   },
   {
    "duration": 12,
    "start_time": "2021-09-06T06:25:22.228Z"
   },
   {
    "duration": 6,
    "start_time": "2021-09-06T06:25:22.242Z"
   },
   {
    "duration": 4,
    "start_time": "2021-09-06T06:25:22.250Z"
   },
   {
    "duration": 205,
    "start_time": "2021-09-06T06:25:22.256Z"
   },
   {
    "duration": 11,
    "start_time": "2021-09-06T06:25:22.464Z"
   },
   {
    "duration": 217,
    "start_time": "2021-09-06T06:25:22.477Z"
   },
   {
    "duration": 116,
    "start_time": "2021-09-06T06:25:22.696Z"
   },
   {
    "duration": 141,
    "start_time": "2021-09-06T06:25:22.814Z"
   },
   {
    "duration": 39,
    "start_time": "2021-09-06T06:25:22.958Z"
   },
   {
    "duration": 157,
    "start_time": "2021-09-06T06:25:23.000Z"
   },
   {
    "duration": 210,
    "start_time": "2021-09-06T06:25:23.159Z"
   },
   {
    "duration": 113,
    "start_time": "2021-09-06T07:10:49.813Z"
   },
   {
    "duration": 76,
    "start_time": "2021-09-06T07:11:55.718Z"
   },
   {
    "duration": 283,
    "start_time": "2021-09-06T07:12:31.108Z"
   },
   {
    "duration": 4861,
    "start_time": "2021-09-06T07:12:26.532Z"
   },
   {
    "duration": 4856,
    "start_time": "2021-09-06T07:12:26.538Z"
   },
   {
    "duration": 4852,
    "start_time": "2021-09-06T07:12:26.543Z"
   },
   {
    "duration": 4847,
    "start_time": "2021-09-06T07:12:26.549Z"
   },
   {
    "duration": 4843,
    "start_time": "2021-09-06T07:12:26.554Z"
   },
   {
    "duration": 4836,
    "start_time": "2021-09-06T07:12:26.562Z"
   },
   {
    "duration": 4832,
    "start_time": "2021-09-06T07:12:26.567Z"
   },
   {
    "duration": 4827,
    "start_time": "2021-09-06T07:12:26.573Z"
   },
   {
    "duration": 4797,
    "start_time": "2021-09-06T07:12:26.604Z"
   },
   {
    "duration": 4778,
    "start_time": "2021-09-06T07:12:26.624Z"
   },
   {
    "duration": 4772,
    "start_time": "2021-09-06T07:12:26.631Z"
   },
   {
    "duration": 4767,
    "start_time": "2021-09-06T07:12:26.636Z"
   },
   {
    "duration": 4764,
    "start_time": "2021-09-06T07:12:26.640Z"
   },
   {
    "duration": 4758,
    "start_time": "2021-09-06T07:12:26.647Z"
   },
   {
    "duration": 4755,
    "start_time": "2021-09-06T07:12:26.651Z"
   },
   {
    "duration": 4751,
    "start_time": "2021-09-06T07:12:26.656Z"
   },
   {
    "duration": 4747,
    "start_time": "2021-09-06T07:12:26.661Z"
   },
   {
    "duration": 4743,
    "start_time": "2021-09-06T07:12:26.666Z"
   },
   {
    "duration": 4739,
    "start_time": "2021-09-06T07:12:26.671Z"
   },
   {
    "duration": 4735,
    "start_time": "2021-09-06T07:12:26.676Z"
   },
   {
    "duration": 4731,
    "start_time": "2021-09-06T07:12:26.681Z"
   },
   {
    "duration": 4727,
    "start_time": "2021-09-06T07:12:26.686Z"
   },
   {
    "duration": 4723,
    "start_time": "2021-09-06T07:12:26.691Z"
   },
   {
    "duration": 4716,
    "start_time": "2021-09-06T07:12:26.699Z"
   },
   {
    "duration": 4672,
    "start_time": "2021-09-06T07:12:26.744Z"
   },
   {
    "duration": 4667,
    "start_time": "2021-09-06T07:12:26.750Z"
   },
   {
    "duration": 4664,
    "start_time": "2021-09-06T07:12:26.754Z"
   },
   {
    "duration": 1183,
    "start_time": "2021-09-06T07:13:19.995Z"
   },
   {
    "duration": 505,
    "start_time": "2021-09-06T07:13:21.181Z"
   },
   {
    "duration": 4,
    "start_time": "2021-09-06T07:13:21.688Z"
   },
   {
    "duration": 23,
    "start_time": "2021-09-06T07:13:21.694Z"
   },
   {
    "duration": 20,
    "start_time": "2021-09-06T07:13:21.719Z"
   },
   {
    "duration": 56,
    "start_time": "2021-09-06T07:13:21.741Z"
   },
   {
    "duration": 10,
    "start_time": "2021-09-06T07:13:21.800Z"
   },
   {
    "duration": 7,
    "start_time": "2021-09-06T07:13:21.813Z"
   },
   {
    "duration": 7,
    "start_time": "2021-09-06T07:13:21.823Z"
   },
   {
    "duration": 5,
    "start_time": "2021-09-06T07:13:21.832Z"
   },
   {
    "duration": 54,
    "start_time": "2021-09-06T07:13:21.839Z"
   },
   {
    "duration": 24,
    "start_time": "2021-09-06T07:13:21.894Z"
   },
   {
    "duration": 1188,
    "start_time": "2021-09-06T07:13:21.920Z"
   },
   {
    "duration": 6,
    "start_time": "2021-09-06T07:13:23.110Z"
   },
   {
    "duration": 5,
    "start_time": "2021-09-06T07:13:23.118Z"
   },
   {
    "duration": 83,
    "start_time": "2021-09-06T07:13:23.125Z"
   },
   {
    "duration": 5,
    "start_time": "2021-09-06T07:13:23.209Z"
   },
   {
    "duration": 12,
    "start_time": "2021-09-06T07:13:23.216Z"
   },
   {
    "duration": 9,
    "start_time": "2021-09-06T07:13:23.230Z"
   },
   {
    "duration": 8,
    "start_time": "2021-09-06T07:13:23.240Z"
   },
   {
    "duration": 43,
    "start_time": "2021-09-06T07:13:23.250Z"
   },
   {
    "duration": 186,
    "start_time": "2021-09-06T07:13:23.295Z"
   },
   {
    "duration": 11,
    "start_time": "2021-09-06T07:13:23.492Z"
   },
   {
    "duration": 215,
    "start_time": "2021-09-06T07:13:23.505Z"
   },
   {
    "duration": 84,
    "start_time": "2021-09-06T07:13:23.721Z"
   },
   {
    "duration": 109,
    "start_time": "2021-09-06T07:13:23.807Z"
   },
   {
    "duration": 24,
    "start_time": "2021-09-06T07:13:23.917Z"
   },
   {
    "duration": 112,
    "start_time": "2021-09-06T07:13:23.943Z"
   },
   {
    "duration": 128,
    "start_time": "2021-09-06T07:13:24.056Z"
   },
   {
    "duration": 99,
    "start_time": "2021-09-06T07:25:45.220Z"
   }
  ],
  "kernelspec": {
   "display_name": "Python 3",
   "language": "python",
   "name": "python3"
  },
  "language_info": {
   "codemirror_mode": {
    "name": "ipython",
    "version": 3
   },
   "file_extension": ".py",
   "mimetype": "text/x-python",
   "name": "python",
   "nbconvert_exporter": "python",
   "pygments_lexer": "ipython3",
   "version": "3.7.8"
  },
  "toc": {
   "base_numbering": 1,
   "nav_menu": {},
   "number_sections": true,
   "sideBar": true,
   "skip_h1_title": true,
   "title_cell": "Table of Contents",
   "title_sidebar": "Contents",
   "toc_cell": false,
   "toc_position": {},
   "toc_section_display": true,
   "toc_window_display": false
  }
 },
 "nbformat": 4,
 "nbformat_minor": 2
}
